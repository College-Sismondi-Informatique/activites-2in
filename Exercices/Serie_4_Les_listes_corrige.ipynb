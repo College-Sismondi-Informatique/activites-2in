{
 "cells": [
  {
   "cell_type": "markdown",
   "metadata": {},
   "source": "# Cours détaillé : Les listes en Python\n\n**Niveau** : Collège — 2e année  \n**Prérequis** : variables, conditions (`if`), boucles (`for`, `while`), fonctions, types simples (`int`, `float`, `str`, `bool`)  \n**Objectifs** :\n- Comprendre ce qu'est une **liste** (tableau dynamique) et à quoi elle sert.\n- Savoir **créer**, **lire**, **modifier**, **ajouter**, **retirer** des éléments.\n- Parcourir une liste avec des **boucles** et l'utiliser dans des **fonctions**.\n- Utiliser le **slicing** (sous-listes).\n- Réaliser de petits **projets** concrets (notes, panier, mini-horaire).\n\n> Ce notebook alterne **théorie**, **exemples** et **exercices** à compléter (signalés par ✏️).\n"
  },
  {
   "cell_type": "markdown",
   "metadata": {},
   "source": "---\n## 0) Pourquoi des listes ?\n\nUne variable simple (comme `x = 12`) stocke **une seule valeur**.  \nMais souvent, on veut gérer **plusieurs valeurs ensemble** : les notes d'un élève, la liste des invités, les articles d'un panier, etc.\n\nUne **liste** permet de regrouper ces valeurs dans **une seule variable** et de les manipuler facilement.\n"
  },
  {
   "cell_type": "markdown",
   "metadata": {},
   "source": "---\n## 1) Créer une liste\n\n- Liste vide : `[]`\n- Liste de nombres : `[2, 4, 6]`\n- Liste de chaînes : `[\"lundi\", \"mardi\"]`\n- Mélange de types (possible, mais à éviter au début) : `[\"Ali\", 15, True]`\n\n> **Syntaxe** : les éléments sont séparés par des **virgules**`,` et entourés par des **crochets**`[]`.\n"
  },
  {
   "cell_type": "code",
   "execution_count": null,
   "metadata": {
    "trusted": false
   },
   "outputs": [],
   "source": "# Exemples de créations de listes\nvide = []\nnombres = [2, 4, 6, 8]\njours = [\"lundi\", \"mardi\", \"mercredi\"]\n\nvide, nombres, jours"
  },
  {
   "cell_type": "markdown",
   "metadata": {},
   "source": "### ⚠️ Attention fréquente\n- Oublier une virgule : `[\"a\" \"b\"]` → **Erreur** (interprété comme concaténation de chaînes).\n- Utiliser des parenthèses au lieu de crochets : `(1, 2, 3)` crée un **tuple**, pas une liste (non demandé ici).\n"
  },
  {
   "cell_type": "markdown",
   "metadata": {},
   "source": "### ✏️ Exercice 1 — Mes matières\n1. Crée une liste `matieres` avec 4 matières (ex. `\"maths\"`, `\"info\"`, `\"français\"`, `\"sport\"`).  \n2. Affiche la liste.\n"
  },
  {
   "cell_type": "code",
   "execution_count": null,
   "metadata": {
    "trusted": false
   },
   "outputs": [],
   "source": "# À compléter\nmatieres = [\"maths\", \"info\", \"français\", \"sport\"]\nprint(matieres)"
  },
  {
   "cell_type": "markdown",
   "metadata": {},
   "source": "---\n## 2) Accéder aux éléments : indexation\n\nChaque élément a un **index** (position) :  \n- Le **premier** élément est à l'index **0**  \n- Le deuxième à l'index **1**, etc.\n\nOn écrit `liste[index]` pour accéder à un élément.\n"
  },
  {
   "cell_type": "code",
   "execution_count": null,
   "metadata": {
    "trusted": false
   },
   "outputs": [],
   "source": "jours = [\"lundi\", \"mardi\", \"mercredi\", \"jeudi\", \"vendredi\"]\nprint(jours[0])   # premier\nprint(jours[2])   # troisième"
  },
  {
   "cell_type": "markdown",
   "metadata": {},
   "source": "### ⚠️ Erreur courante : `IndexError`\nAccéder à un index qui **n'existe pas** provoque une erreur.\n\n```python\njours = [\"lundi\", \"mardi\"]\njours[5]   # <-- IndexError (il n'y a pas d'index 5)\n```\n"
  },
  {
   "cell_type": "markdown",
   "metadata": {},
   "source": "### ✏️ Exercice 2 — Accès\nAvec `couleurs = [\"rouge\",\"vert\",\"bleu\",\"jaune\"]` :\n1. Affiche la **première** couleur.  \n2. Affiche la **dernière** couleur (sans écrire le nombre exact d'éléments).\n"
  },
  {
   "cell_type": "code",
   "execution_count": null,
   "metadata": {
    "trusted": false
   },
   "outputs": [],
   "source": "# À compléter\ncouleurs = [\"rouge\",\"vert\",\"bleu\",\"jaune\"]\nprint(couleurs[0])\nprint(couleurs[-1])   # index négatif : -1 = dernier\n"
  },
  {
   "cell_type": "markdown",
   "metadata": {},
   "source": "---\n## 3) Modifier un élément\n\nOn peut remplacer la valeur d'un élément en utilisant son index.\n\n**Exemple** : corriger une faute\n"
  },
  {
   "cell_type": "code",
   "execution_count": null,
   "metadata": {
    "trusted": false
   },
   "outputs": [],
   "source": "prenoms = [\"Ali\", \"Mia\", \"Noe\"]\nprenoms[2] = \"Noé\"   # correction\nprenoms"
  },
  {
   "cell_type": "markdown",
   "metadata": {},
   "source": "### ✏️ Exercice 3 — Corrige la liste\n`capitales = [\"Paris\", \"Londre\", \"Bern\"]`  \n1. Corrige `\"Londre\"` → `\"Londres\"`  \n2. Corrige `\"Bern\"` → `\"Berne\"`  \n3. Affiche la liste.\n"
  },
  {
   "cell_type": "code",
   "execution_count": null,
   "metadata": {
    "trusted": false
   },
   "outputs": [],
   "source": "# À compléter\ncapitales = [\"Paris\", \"Londre\", \"Bern\"]\n# ...\ncapitales[1] = \"Londres\"\ncapitales[2] = \"Berne\"\nprint(capitales)"
  },
  {
   "cell_type": "markdown",
   "metadata": {},
   "source": "---\n## 4) Ajouter / enlever des éléments\n\n- `append(x)` : ajoute **à la fin**\n- `insert(i, x)` : insère à la **position i**\n- `remove(x)` : supprime la **première occurrence** de `x`\n- `pop(i)` : supprime l'élément **d'index i** (ou le dernier si `i` est omis)\n- `clear()` : vide entièrement la liste\n"
  },
  {
   "cell_type": "code",
   "execution_count": null,
   "metadata": {
    "trusted": false
   },
   "outputs": [],
   "source": "animaux = [\"chat\", \"chien\"]\nanimaux.append(\"lapin\")\nanimaux.insert(1, \"hamster\")\nprint(animaux)\n\nanimaux.remove(\"chat\")\nprint(animaux)\n\ndernier = animaux.pop()   # retire le dernier et le retourne\nprint(\"retiré:\", dernier, \"| reste:\", animaux)\n\nanimaux.clear()\nanimaux"
  },
  {
   "cell_type": "markdown",
   "metadata": {},
   "source": "### ✏️ Exercice 4 — Jours de la semaine\n1. Crée une liste vide `jours`  \n2. Ajoute `\"lundi\"`, `\"mardi\"`, `\"mercredi\"` (dans cet ordre)  \n3. Insère `\"dimanche\"` **au début**  \n4. Supprime `\"mardi\"`  \n5. Affiche la liste finale (ordre attendu : `[\"dimanche\",\"lundi\",\"mercredi\"]`)\n"
  },
  {
   "cell_type": "code",
   "execution_count": null,
   "metadata": {
    "trusted": false
   },
   "outputs": [],
   "source": "# À compléter\njours = []\n# ...\njours.append(\"lundi\")\njours.append(\"mardi\")\njours.append(\"mercredi\")\njours.insert(0, \"dimanche\")\njours.remove(\"mardi\")\nprint(jours)"
  },
  {
   "cell_type": "markdown",
   "metadata": {},
   "source": "---\n## 5) Longueur et appartenance\n\n- `len(liste)` donne le **nombre d'éléments**  \n- L'opérateur `in` teste la **présence** d'une valeur\n"
  },
  {
   "cell_type": "code",
   "execution_count": null,
   "metadata": {
    "trusted": false
   },
   "outputs": [],
   "source": "mois = [\"janvier\",\"février\",\"mars\",\"avril\"]\nprint(\"Taille :\", len(mois))\nprint(\"mars\" in mois)      # True\nprint(\"juin\" in mois)      # False"
  },
  {
   "cell_type": "markdown",
   "metadata": {},
   "source": "### ✏️ Exercice 5 — Contrôle de présence\nAvec `participants = [\"Lina\",\"Tom\",\"Eva\"]` :  \n- Affiche `True` si `\"Tom\"` est dans la liste, sinon `False`.  \n- Affiche `True` si `\"Max\"` est dans la liste, sinon `False`.\n"
  },
  {
   "cell_type": "code",
   "execution_count": null,
   "metadata": {
    "trusted": false
   },
   "outputs": [],
   "source": "# À compléter\nparticipants = [\"Lina\",\"Tom\",\"Eva\"]\nprint(\"Tom\" in participants)\nprint(\"Max\" in participants)"
  },
  {
   "cell_type": "markdown",
   "metadata": {},
   "source": "---\n## 6) Parcourir une liste\n\n### a) Boucle `for` directe (recommandée)\n"
  },
  {
   "cell_type": "code",
   "execution_count": null,
   "metadata": {
    "trusted": false
   },
   "outputs": [],
   "source": "prenoms = [\"Ali\",\"Mia\",\"Noé\"]\nfor p in prenoms:\n    print(\"Bonjour\", p)"
  },
  {
   "cell_type": "markdown",
   "metadata": {},
   "source": "### b) Boucle par index (si besoin de l'index)"
  },
  {
   "cell_type": "code",
   "execution_count": null,
   "metadata": {
    "trusted": false
   },
   "outputs": [],
   "source": "prenoms = [\"Ali\",\"Mia\",\"Noé\"]\nfor i in range(len(prenoms)):\n    print(i, \"→\", prenoms[i])"
  },
  {
   "cell_type": "markdown",
   "metadata": {},
   "source": "### c) Boucle `while` (à utiliser avec prudence)\n"
  },
  {
   "cell_type": "code",
   "execution_count": null,
   "metadata": {
    "trusted": false
   },
   "outputs": [],
   "source": "prenoms = [\"Ali\",\"Mia\",\"Noé\"]\ni = 0\nwhile i < len(prenoms):\n    print(prenoms[i])\n    i += 1"
  },
  {
   "cell_type": "markdown",
   "metadata": {},
   "source": "### ✏️ Exercice 6 — Bonjour à tous\nAvec `classe = [\"Amine\",\"Bianca\",\"Chen\",\"Dario\"]`, affiche **une ligne par élève** :  \n`Bonjour Amine` etc.\n"
  },
  {
   "cell_type": "code",
   "execution_count": null,
   "metadata": {
    "trusted": false
   },
   "outputs": [],
   "source": "# À compléter\nclasse = [\"Amine\",\"Bianca\",\"Chen\",\"Dario\"]\n# ...\nfor nom in classe:\n    print(\"Bonjour\", nom)"
  },
  {
   "cell_type": "markdown",
   "metadata": {},
   "source": "---\n## 7) Listes et fonctions\n\nOn peut **passer une liste** à une fonction (paramètre), et **retourner** une valeur calculée.\n"
  },
  {
   "cell_type": "code",
   "execution_count": null,
   "metadata": {
    "trusted": false
   },
   "outputs": [],
   "source": "def moyenne(liste_de_notes):\n    return sum(liste_de_notes) / len(liste_de_notes)\n\nnotes = [12, 15, 9, 18]\nprint(\"Moyenne :\", round(moyenne(notes), 2))"
  },
  {
   "cell_type": "markdown",
   "metadata": {},
   "source": "### ✏️ Exercice 7 — Minimum sans `min`\nÉcris une fonction `minimum(liste)` qui retourne la plus petite valeur **sans** utiliser `min()`.\n"
  },
  {
   "cell_type": "code",
   "execution_count": null,
   "metadata": {
    "trusted": false
   },
   "outputs": [],
   "source": "# À compléter\ndef minimum(liste):\n    m = liste[0]\n    for x in liste:\n        if x < m:\n            m = x\n    return m\n\nprint(minimum([5, 2, 7, 1, 9]))  # attendu : 1"
  },
  {
   "cell_type": "markdown",
   "metadata": {},
   "source": "---\n## 8) Sous-listes (slicing)\n\n`liste[debut:fin]` retourne les éléments **du début à fin-1** (fin exclue).\n- `liste[:k]` : du début à `k-1`\n- `liste[k:]` : de `k` jusqu'à la fin\n- `liste[-1]` : dernier élément\n"
  },
  {
   "cell_type": "code",
   "execution_count": null,
   "metadata": {
    "trusted": false
   },
   "outputs": [],
   "source": "jours = [\"lundi\",\"mardi\",\"mercredi\",\"jeudi\",\"vendredi\",\"samedi\",\"dimanche\"]\nprint(jours[1:4])   # mardi, mercredi, jeudi\nprint(jours[:3])    # lundi, mardi, mercredi\nprint(jours[-2:])   # samedi, dimanche"
  },
  {
   "cell_type": "markdown",
   "metadata": {},
   "source": "### ✏️ Exercice 8 — Slicing pratique\nAvec `n = [0,1,2,3,4,5,6,7,8,9]` :  \n1. Affiche les quatre premiers nombres.  \n2. Affiche les trois derniers nombres.  \n3. Affiche les nombres d'index 3 à 6 inclus.\n"
  },
  {
   "cell_type": "code",
   "execution_count": null,
   "metadata": {
    "trusted": false
   },
   "outputs": [],
   "source": "# À compléter\nn = [0,1,2,3,4,5,6,7,8,9]\nprint(n[:4])\nprint(n[-3:])\nprint(n[3:7])"
  },
  {
   "cell_type": "markdown",
   "metadata": {},
   "source": "---\n## 9) Méthodes utiles + tri\n\n- `list.sort()` trie la liste **sur place** (modifie la liste)\n- `sorted(liste)` retourne **une nouvelle liste triée** (ne modifie pas l'originale)\n- `reverse()` inverse l'ordre sur place\n"
  },
  {
   "cell_type": "code",
   "execution_count": null,
   "metadata": {
    "trusted": false
   },
   "outputs": [],
   "source": "n = [5, 1, 4, 3, 2]\nprint(\"original :\", n)\nprint(\"sorted   :\", sorted(n))   # nouvelle liste\nn.sort()\nprint(\"trié sur place :\", n)\nn.reverse()\nprint(\"inversé :\", n)"
  },
  {
   "cell_type": "markdown",
   "metadata": {},
   "source": "### ✏️ Exercice 9 — Tri des prénoms\n`groupe = [\"zoe\",\"Alice\",\"mohamed\",\"Éric\"]`  \n1. Crée une **copie triée** sans modifier l'original.  \n2. Trie ensuite le groupe **sur place**.  \n*(Remarque : la casse et les accents influencent l'ordre par défaut)*\n"
  },
  {
   "cell_type": "code",
   "execution_count": null,
   "metadata": {
    "trusted": false
   },
   "outputs": [],
   "source": "# À compléter\ngroupe = [\"zoe\",\"Alice\",\"mohamed\",\"Éric\"]\ncopie_triee = sorted(groupe)\nprint(\"copie_triee :\", copie_triee)\ngroupe.sort()\nprint(\"groupe trié :\", groupe)"
  },
  {
   "cell_type": "markdown",
   "metadata": {},
   "source": "---\n## 10) Mini-projets\n\n### 🎯 Projet A — Gestion des notes (consolidation)\n**Consignes :**\n1. Demande à l'utilisateur **combien** de notes il veut entrer.  \n2. Saisis ces notes dans la liste `notes` (utilise une boucle).  \n3. Affiche : la **liste**, la **moyenne**, la **meilleure** et la **pire** note.  \n4. Bonus : affiche les notes **triées** (sans modifier l'original au départ).\n\n**Exemple attendu :**\n```\nCombien de notes ? 3\nEntrer une note : 12\nEntrer une note : 17\nEntrer une note : 9\nNotes : [12, 17, 9]\nMoyenne : 12.67\nMax : 17 | Min : 9\nTriées : [9, 12, 17]\n```\n"
  },
  {
   "cell_type": "code",
   "execution_count": null,
   "metadata": {
    "trusted": false
   },
   "outputs": [],
   "source": "# À compléter — Projet A\nnb = int(input(\"Combien de notes ? \"))\nnotes = []\nfor i in range(nb):\n    n = float(input(\"Entrer une note : \"))\n    notes.append(n)\n\nprint(\"Notes :\", notes)\nmoy = sum(notes)/len(notes)\nprint(\"Moyenne :\", round(moy, 2))\nprint(\"Max :\", max(notes), \"| Min :\", min(notes))\nprint(\"Triées :\", sorted(notes))"
  },
  {
   "cell_type": "markdown",
   "metadata": {},
   "source": "### 🛒 Projet B — Panier d'achats\nÉcrire un petit programme qui :  \n1. Commence avec `panier = []`  \n2. Boucle **tant que** l'utilisateur ne tape pas `\"fin\"` :  \n   - lit un article (ex. `\"pomme\"`, `\"lait\"`)  \n   - l'ajoute au panier  \n3. À la fin, affiche le **nombre d'articles** et la **liste des articles**.\n\n**Exemple :**\n```\nArticle ? pomme\nArticle ? lait\nArticle ? fin\nVotre panier (2) : ['pomme', 'lait']\n```\n"
  },
  {
   "cell_type": "code",
   "execution_count": null,
   "metadata": {
    "trusted": false
   },
   "outputs": [],
   "source": "# À compléter — Projet B\npanier = []\nwhile True:\n    article = input(\"Article ? \")\n    if article.lower() == \"fin\":\n        break\n    panier.append(article)\n\nprint(f\"Votre panier ({len(panier)}) :\", panier)"
  },
  {
   "cell_type": "markdown",
   "metadata": {},
   "source": "### 🚆 Projet C — Mini-horaire (liste de listes, 2D léger)\n1. Chaque train est une **liste** `[type, heure, destination, voie]`  \n2. Crée 3 trains et regroupe-les dans `horaire = [t1, t2, t3]`  \n3. Affiche **uniquement** les trains qui partent de la **voie 4**  \n4. Bonus : ajoute un retard au train qui part à `8h55` (par ex. `\"8h55 + 20min\"`)\n\n> 💡 **Indice** : pour accéder à la voie du 2e train : `horaire[1][3]`\n"
  },
  {
   "cell_type": "code",
   "execution_count": null,
   "metadata": {
    "trusted": false
   },
   "outputs": [],
   "source": "# À compléter — Projet C\nt1 = [\"S22\", \"8h47\", \"Vufflens-la-Ville\", 1]\nt2 = [\"S2\",  \"8h51\", \"Aigle\",             4]\nt3 = [\"S4\",  \"8h55\", \"Palézieux\",         3]\n\nhoraire = [t1, t2, t3]\n\nfor train in horaire:\n    if train[3] == 4:\n        print(train)\n\n# Bonus (exemple) : ajouter une remarque de retard pour t3\nif t3[1] == \"8h55\":\n    t3[1] = \"8h55 + 20min\"\nprint(\"Mise à jour :\", t3)"
  },
  {
   "cell_type": "markdown",
   "metadata": {},
   "source": "---\n## 📘 Tableau récapitulatif — Les listes en Python\n\n| Concept | Explication | Exemple en Python | Résultat |\n|---------|-------------|-------------------|----------|\n| **Liste** | Collection ordonnée, modifiable, types variés | `liste = [3, \"a\", True]` | `[3, 'a', True]` |\n| **Indexation** | Premier élément : index `0` ; dernier : `-1` | `nombres = [10, 20, 30]`<br>`print(nombres[0])`<br>`print(nombres[-1])` | `10`<br>`30` |\n| **append(x)** | Ajoute un élément à la fin | `fruits = [\"pomme\"]`<br>`fruits.append(\"banane\")` | `[\"pomme\", \"banane\"]` |\n| **insert(i, x)** | Insère un élément à une position donnée | `fruits.insert(0, \"kiwi\")` | `[\"kiwi\", \"pomme\", \"banane\"]` |\n| **remove(x)** | Supprime la première occurrence de `x` | `fruits.remove(\"pomme\")` | `[\"kiwi\", \"banane\"]` |\n| **pop(i)** | Supprime l’élément d’index `i` (ou le dernier si vide) | `fruits.pop()` | Renvoie `\"banane\"`, reste `[\"kiwi\"]` |\n| **clear()** | Vide complètement la liste | `fruits.clear()` | `[]` |\n| **len(liste)** | Donne le nombre d’éléments | `len([1,2,3])` | `3` |\n| **sum(liste)** | Somme des éléments numériques | `sum([2,4,6])` | `12` |\n| **max(liste)** | Plus grand élément | `max([2,4,6])` | `6` |\n| **min(liste)** | Plus petit élément | `min([2,4,6])` | `2` |\n| **sorted(liste)** | Retourne une **nouvelle liste triée** | `sorted([3,1,2])` | `[1,2,3]` |\n| **sort()** | Trie la liste **sur place** | `n = [3,1,2]`<br>`n.sort()` | `n → [1,2,3]` |\n| **reverse()** | Inverse la liste sur place | `n.reverse()` | `[3,2,1]` |\n| **Slicing** | Sous-liste avec `liste[a:b]` (de `a` à `b-1`) | `jours = [\"lun\",\"mar\",\"mer\",\"jeu\"]`<br>`jours[1:3]` | `[\"mar\",\"mer\"]` |\n\n---"
  },
  {
   "cell_type": "markdown",
   "metadata": {},
   "source": "---\nNotebook généré automatiquement le **2025-09-14 15:34**.\n\n> Version longue — Cours & exercices sur les **listes** (Python).  \n> Compatible Basthon / Jupyter (sans dépendances externes).\n"
  }
 ],
 "metadata": {
  "kernelspec": {
   "display_name": "Python 3",
   "language": "python",
   "name": "python3"
  },
  "language_info": {
   "name": "python",
   "version": "3.x"
  }
 },
 "nbformat": 4,
 "nbformat_minor": 2
}
