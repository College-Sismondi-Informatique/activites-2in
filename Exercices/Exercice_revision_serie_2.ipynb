{
 "cells": [
  {
   "cell_type": "markdown",
   "metadata": {},
   "source": "<div style=\"padding:20px;background-color:papayawhip;\" > \n<h3 style=\"color:chocolate\"> <i class=\"fa fa-info\" aria-hidden=\"true\"> </i> &nbsp; Remarque introductive &nbsp;  <i class=\"fa fa-info\" aria-hidden=\"true\"></h3> \n<p> Ce fichier est fait pour être lu sur le site <a href=\"https://notebook.basthon.fr/\"><img src='https://notebook.basthon.fr/assets/efede5218c9087496f16.png' style=\"border: 0; display:inline; margin: 0 5px; height:30px\" alt=\"Basthon\"/></a>. <br>\n    \nSi vous l'avez ouvert avec un autre programme, comme Jupyter notebook, vous riquez de rencontrer quelques bugs. <br>\nVeuillez cliquez sur <a href=\"https://notebook.basthon.fr/\">ce lien</a> et y charger ce fichier à l'aide du bouton \"Ouvrir\"  &nbsp; <i class=\"fa fa-folder\" aria-hidden=\"true\"> </i>\n</p> </div> "
  },
  {
   "cell_type": "markdown",
   "metadata": {},
   "source": "# Améliorer un quiz Disney 🎬✨\n\nOn vous donne un petit programme Python qui pose 4 questions **Disney** et calcule un score.  \nVotre but est d’**améliorer** ce programme.\n\n## Objectifs\n- Utiliser `input()` pour dialoguer avec l’utilisateur·rice.\n- Modifier une **fonction** existante.\n- Utiliser des **boucles** (`while`, `for`) pour éviter les répétitions.\n- Soigner l’**ergonomie** (messages, rejouer, affichage final).\n\n## Tâches demandées\n\n1. **Demander le prénom** du joueur/de la joueuse au début et personnaliser les messages.  \n   > Exemple : `Bonjour Alice, bienvenue dans le quiz !`\n\n2. **Proposer de rejouer** à la fin du quiz (boucle `while`).  \n   > Après avoir affiché le score, poser : `Veux-tu rejouer ? (oui/non)`\n\n3. **Améliorer la fonction `poser_question`** :\n   - Si la réponse est fausse, **afficher la bonne réponse**.\n\n4. **Commentaire final selon le score** :\n   - Score parfait → “Bravo, tu es un·e vrai·e fan de Disney !”\n   - Score moyen → “Pas mal, mais tu peux faire mieux !”\n   - Score faible → “Tu dois réviser tes classiques Disney…”\n\n6. ** Tolérer les majuscules/minuscules et petits espaces** :\n   - On compare les réponses après `strip()` et en minuscules (`lower()` ou `casefold()`).\n   - Pour certaines questions, on peut accepter **plusieurs** réponses correctes (ex. `\"blanche-neige\"` et `\"blanche neige\"`).\n\n\n**À vous de jouer !**\n"
  },
  {
   "cell_type": "code",
   "execution_count": 1,
   "metadata": {
    "trusted": true
   },
   "outputs": [
    {
     "name": "stdout",
     "output_type": "stream",
     "text": "Quiz sur le thème : Disney\nQuel est le nom du cowboy dans Toy Story ? sf\nMauvaise réponse, tu feras mieux la prochaine fois !\nQuelle est la première princesse Disney apparue au cinéma ? sdf\nMauvaise réponse, tu feras mieux la prochaine fois !\nDans Le Roi Lion, quel est le nom du père de Simba ? sdf\nMauvaise réponse, tu feras mieux la prochaine fois !\nDans Toy Story, quel est le rival puis ami de Woody ? sdf\nMauvaise réponse, tu feras mieux la prochaine fois !\nVotre score est de : 0\n"
    }
   ],
   "source": "print('Quiz sur le thème : Disney')\n\nscore = 0\n\ndef evaluer_reponse(reponse, solution):\n    global score\n\n    if reponse == solution:\n        print(\"Bonne réponse !\")\n        score = score + 1\n    else:\n        print(\"Mauvaise réponse, tu feras mieux la prochaine fois !\")\n\n############ Question 1 \nquestion = \"Quel est le nom du cowboy dans Toy Story ? \"\nsolution = 'Woody'\nreponse = input(question)\nevaluer_reponse(reponse, solution)\n\n############ Question 2\nquestion = \"Quelle est la première princesse Disney apparue au cinéma ? \"\nsolution = 'Blanche-Neige'\nreponse = input(question)\nevaluer_reponse(reponse, solution)\n\n############ Question 3\nquestion = \"Dans Le Roi Lion, quel est le nom du père de Simba ? \"\nsolution = 'Mufasa'\nreponse = input(question)\nevaluer_reponse(reponse, solution)\n\n############ Question 4\nquestion = \"Dans Toy Story, quel est le rival puis ami de Woody ? \"\nsolution = 'Buzz l’Éclair'\nreponse = input(question)\nevaluer_reponse(reponse, solution)\n\nprint('Votre score est de :', score)\n"
  }
 ],
 "metadata": {
  "kernelspec": {
   "display_name": "Python 3",
   "language": "python",
   "name": "python3"
  }
 },
 "nbformat": 4,
 "nbformat_minor": 2
}
