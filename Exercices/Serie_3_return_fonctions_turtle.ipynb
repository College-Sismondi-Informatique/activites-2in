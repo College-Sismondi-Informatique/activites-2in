{
 "cells": [
  {
   "cell_type": "markdown",
   "metadata": {},
   "source": "# Python — Comprendre `return`\n\n**Niveau :** Collège (2e année)\n\nObjectif : utiliser **`return`** dans des fonctions.\n\n👉 Idée clé : `print` **affiche**, `return` **renvoie** une valeur pour la **réutiliser**.\n"
  },
  {
   "cell_type": "markdown",
   "metadata": {},
   "source": "## 1) Un seul `return` (cas simple)\nUne fonction renvoie généralement une valeur avec `return`."
  },
  {
   "cell_type": "code",
   "execution_count": null,
   "metadata": {
    "trusted": true
   },
   "outputs": [],
   "source": "def carre(x):\n    return x*x\n\nprint(carre(5))  # 25"
  },
  {
   "cell_type": "markdown",
   "metadata": {},
   "source": "## 2) Plusieurs `return` possibles (conditions)\nDès qu’un `return` s’exécute, la fonction **s’arrête immédiatement**."
  },
  {
   "cell_type": "code",
   "execution_count": null,
   "metadata": {
    "trusted": true
   },
   "outputs": [],
   "source": "def signe(n):\n    if n > 0:\n        return \"positif\"\n    elif n < 0:\n        return \"négatif\"\n    else:\n        return \"zéro\"\n\nprint(signe(3))   # positif\nprint(signe(-7))  # négatif\nprint(signe(0))   # zéro"
  },
  {
   "cell_type": "markdown",
   "metadata": {},
   "source": "## 3) `return` dans une boucle `while` (ou `for`)\nOn peut **sortir plus tôt** d’une fonction si on trouve la réponse pendant la boucle."
  },
  {
   "cell_type": "code",
   "execution_count": null,
   "metadata": {
    "trusted": true
   },
   "outputs": [],
   "source": "# On recherche la valeur dans la liste\ndef recherche(liste, valeur):\n    i = 0\n    while i < len(liste):\n        if liste[i] == valeur:\n            return i      # fin immédiate si trouvé\n        i = i + 1\n    return -1             # sinon, pas trouvé\n\nprint(\"Position de la valeur (si -1 pas trouvé): \", recherche([4,8,5,9], 5))\nprint(\"Position de la valeur (si -1 pas trouvé): \", recherche([4,8,2,9], 7))"
  },
  {
   "cell_type": "markdown",
   "metadata": {},
   "source": "### ✏️ Exercice 1 — Triple\nÉcris `triple(x)` qui **renvoie** le triple de `x`. Teste avec 2 et 7."
  },
  {
   "cell_type": "code",
   "execution_count": null,
   "metadata": {
    "trusted": true
   },
   "outputs": [],
   "source": "# À compléter\n"
  },
  {
   "cell_type": "markdown",
   "metadata": {},
   "source": "## 4) Petit rappel Turtle\nOn importe tout : `from turtle import *`.\nCommandes utiles : `speed()`, `penup()`, `pendown()`, `goto(x,y)`, `setheading(deg)`, `forward(d)`, `right(a)`, `left(a)`, `color()`, `shape()`, `stamp()`, `dot()`.\n"
  },
  {
   "cell_type": "code",
   "execution_count": null,
   "metadata": {
    "trusted": true
   },
   "outputs": [],
   "source": "from turtle import *\nspeed(0)\npenup()\ngoto(-50,0)\npendown()\nforward(100)  # trait simple\ndone()"
  },
  {
   "cell_type": "markdown",
   "metadata": {},
   "source": "## 5) `return` pour **choisir une couleur** (palette / aléatoire)\nIci, nos fonctions renvoient des **couleurs** que la tortue utilisera :\n- `palette(theme)` renvoie une **liste** de couleurs (tu peux enrichir).\n- `choisir_couleur(theme)` renvoie **une** couleur (au hasard dans la palette)."
  },
  {
   "cell_type": "code",
   "execution_count": null,
   "metadata": {
    "trusted": true
   },
   "outputs": [],
   "source": "from random import choice, randint\n\ndef palette(theme):\n    if theme == 'pastel':\n        return ['#AEC6CF','#FFB347','#77DD77','#CFCFC4','#F49AC2']\n    if theme == 'feu':\n        return ['#ff6b6b','#ff9f43','#feca57','#ee5253','#f368e0']\n    if theme == 'nuit':\n        return ['#222f3e','#1dd1a1','#48dbfb','#5f27cd','#c8d6e5']\n    return ['black','gray','white']\n\ndef choisir_couleur(theme):\n    pal = palette(theme)\n    return choice(pal)\n\n# Démo : bandes colorées\nspeed(0)\npenup()\ngoto(-200,150)\npendown()\nwidth(20)\nfor i in range(10):\n    color(choisir_couleur('pastel'))\n    forward(400)\n    right(90)\n    forward(15)\n    right(90)\n    forward(400)\n    left(90)\n    forward(15)\n    left(90)\ndone()"
  },
  {
   "cell_type": "markdown",
   "metadata": {},
   "source": "### ✏️ Exercice 2 — Palette personnalisée\nAjoute un thème `'océan'` dans `palette` et utilise `choisir_couleur('océan')` pour dessiner 12 **points** (`dot(20)`) alignés horizontalement."
  },
  {
   "cell_type": "code",
   "execution_count": null,
   "metadata": {
    "trusted": true
   },
   "outputs": [],
   "source": "# À compléter\n"
  },
  {
   "cell_type": "markdown",
   "metadata": {},
   "source": "## 6) `return` pour **placer des confettis** (positions aléatoires)\nIci, une fonction renvoie une **position** `(x,y)` dans une zone donnée, que l'on utilisera pour `goto(x,y)`.\nOn va **tamponner** la tortue (`stamp()`) ou faire des `dot()` pour un effet confettis."
  },
  {
   "cell_type": "code",
   "execution_count": null,
   "metadata": {
    "trusted": true
   },
   "outputs": [],
   "source": "def position_aleatoire(xmin, xmax, ymin, ymax):\n    x = randint(xmin, xmax)\n    y = randint(ymin, ymax)\n    return (x, y)\n\nspeed(0)\nshape('turtle')\nfor _ in range(80):\n    color(choisir_couleur('feu'))\n    x,y = position_aleatoire(-250, 250, -180, 180)\n    penup()\n    goto(x,y)\n    pendown()\n    if randint(0,1):\n        dot(randint(6,20))\n    else:\n        stamp()\ndone()"
  },
  {
   "cell_type": "markdown",
   "metadata": {},
   "source": "### ✏️ Exercice 3 — Confettis arc-en-ciel\nÉcris `couleur_au_hasard()` qui **renvoie** une couleur au format RGB.\n💡 Utilise `colormode(255)` puis `color(r,g,b)` avec `randint(0,255)`.\nDessine 100 **confettis** (mélange de `dot()` et `stamp()`) en positions aléatoires."
  },
  {
   "cell_type": "code",
   "execution_count": null,
   "metadata": {
    "trusted": true
   },
   "outputs": [],
   "source": "# À compléter\n"
  },
  {
   "cell_type": "markdown",
   "metadata": {},
   "source": "## 7) `return` pour choisir un **pinceau** (taille + couleur)\nÉcrivons une fonction qui renvoie un **couple** `(taille, couleur)` pour définir un style de dessin.\nEnsuite on dessine une **spirale** décorative (artistique)."
  },
  {
   "cell_type": "code",
   "execution_count": null,
   "metadata": {
    "trusted": true
   },
   "outputs": [],
   "source": "def pinceau(i):\n    # taille qui grossit puis revient\n    taille = 1 + (i % 12)\n    # couleurs qui tournent dans la palette 'nuit'\n    c = choisir_couleur('nuit')\n    return (taille, c)\n\nspeed(0)\nangle = 25\nlongueur = 5\nfor i in range(120):\n    ep, col = pinceau(i)\n    width(ep); color(col)\n    forward(longueur)\n    right(angle)\n    longueur += 1\ndone()"
  },
  {
   "cell_type": "markdown",
   "metadata": {},
   "source": "### ✏️ Exercice 4 — Spirale douce\nCrée `pinceau_doux(i)` qui renvoie `(taille, couleur)` avec une **taille** limitée (1 à 6) et des **couleurs pastel**.\nDessine une spirale élégante en modifiant `angle` et `longueur`."
  },
  {
   "cell_type": "code",
   "execution_count": null,
   "metadata": {
    "trusted": true
   },
   "outputs": [],
   "source": "# À compléter\n"
  },
  {
   "cell_type": "markdown",
   "metadata": {},
   "source": "## 8) Rosace d’icônes (artistique)\nPas besoin de math compliquée : on choisit un **nombre de branches** et un **angle fixe**.\nUne fonction `angle_rosace(k)` **renvoie** cet angle."
  },
  {
   "cell_type": "code",
   "execution_count": null,
   "metadata": {
    "trusted": true
   },
   "outputs": [],
   "source": "def angle_rosace(k):\n    return 360 / k\n\nspeed(0)\nshape('turtle')\npenup(); goto(0,0); pendown()\nk = 12\nang = angle_rosace(k)\nfor i in range(k):\n    color(choisir_couleur('pastel'))\n    forward(80)\n    stamp()\n    backward(80)\n    right(ang)\ndone()"
  },
  {
   "cell_type": "markdown",
   "metadata": {},
   "source": "### ✏️ Exercice 5 — Rosace de points colorés\nÉcris `choisir_forme(i)` qui **renvoie** une forme parmi `\"circle\"`, `\"turtle\"`, `\"triangle\"` selon `i` (ex. modulo 3).\nCrée une rosace de 18 éléments en alternant **points (`dot`)** et **tampons (`stamp`)**."
  },
  {
   "cell_type": "code",
   "execution_count": null,
   "metadata": {
    "trusted": true
   },
   "outputs": [],
   "source": "# À compléter\n"
  },
  {
   "cell_type": "markdown",
   "metadata": {},
   "source": "## 9) Mosaïque aléatoire (couleurs & tailles)\nOn fabrique une **grille souple** : chaque case reçoit une **couleur** et une **taille** renvoyées par des fonctions.\nAucune géométrie : juste des alignements pour un rendu mosaïque."
  },
  {
   "cell_type": "code",
   "execution_count": null,
   "metadata": {
    "trusted": true
   },
   "outputs": [],
   "source": "def taille_cellule(i,j):\n    # petite variation de taille\n    return 10 + ((i+j) % 8)\n\ndef couleur_cellule(i,j):\n    # palette feu + variation simple\n    return choisir_couleur('feu')\n\nspeed(0)\nstart_x = -220\nstart_y = 160\nlignes = 8\ncols = 12\nfor i in range(lignes):\n    for j in range(cols):\n        penup()\n        goto(start_x + j*40, start_y - i*35)\n        pendown()\n        color(couleur_cellule(i,j))\n        dot(taille_cellule(i,j))\ndone()"
  },
  {
   "cell_type": "markdown",
   "metadata": {},
   "source": "### ✏️ Exercice 6 — Mosaïque thématique\nÉcris `couleur_theme(i,j,theme)` qui **renvoie** une couleur selon le thème (`'pastel'`, `'nuit'`, `'feu'`).\nRefais la mosaïque en testant plusieurs thèmes."
  },
  {
   "cell_type": "code",
   "execution_count": null,
   "metadata": {
    "trusted": true
   },
   "outputs": [],
   "source": "# À compléter\n"
  },
  {
   "cell_type": "markdown",
   "metadata": {},
   "source": "---\n### 🧠 À retenir\n- `return` **interrompt** la fonction immédiatement.\n- On peut écrire **plusieurs `return`** dans une fonction, mais **un seul** s’exécute par appel.\n- Dans une boucle, `return` permet de **sortir tôt** si on a trouvé la réponse.\n"
  }
 ],
 "metadata": {
  "kernelspec": {
   "display_name": "Python 3",
   "language": "python",
   "name": "python3"
  }
 },
 "nbformat": 4,
 "nbformat_minor": 2
}
