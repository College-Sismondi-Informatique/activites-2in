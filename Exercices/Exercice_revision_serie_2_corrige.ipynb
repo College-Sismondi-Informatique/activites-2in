{
 "cells": [
  {
   "cell_type": "markdown",
   "metadata": {},
   "source": "<div style=\"padding:20px;background-color:papayawhip;\" > \n<h3 style=\"color:chocolate\"> <i class=\"fa fa-info\" aria-hidden=\"true\"> </i> &nbsp; Remarque introductive &nbsp;  <i class=\"fa fa-info\" aria-hidden=\"true\"></h3> \n<p> Ce fichier est fait pour être lu sur le site <a href=\"https://notebook.basthon.fr/\"><img src='https://notebook.basthon.fr/assets/efede5218c9087496f16.png' style=\"border: 0; display:inline; margin: 0 5px; height:30px\" alt=\"Basthon\"/></a>. <br>\n    \nSi vous l'avez ouvert avec un autre programme, comme Jupyter notebook, vous riquez de rencontrer quelques bugs. <br>\nVeuillez cliquez sur <a href=\"https://notebook.basthon.fr/\">ce lien</a> et y charger ce fichier à l'aide du bouton \"Ouvrir\"  &nbsp; <i class=\"fa fa-folder\" aria-hidden=\"true\"> </i>\n</p> </div> "
  },
  {
   "cell_type": "markdown",
   "metadata": {},
   "source": "# Correction : Améliorer un quiz Disney 🎬✨\n\nOn vous donne un petit programme Python qui pose 4 questions **Disney** et calcule un score.  \nVotre but est d’**améliorer** ce programme.\n\n## Objectifs\n- Utiliser `input()` pour dialoguer avec l’utilisateur·rice.\n- Modifier une **fonction** existante.\n- Utiliser des **boucles** (`while`, `for`) pour éviter les répétitions.\n- Soigner l’**ergonomie** (messages, rejouer, affichage final).\n\n## Tâches demandées\n\n1. **Demander le prénom** du joueur/de la joueuse au début et personnaliser les messages.  \n   > Exemple : `Bonjour Alice, bienvenue dans le quiz !`\n\n2. **Proposer de rejouer** à la fin du quiz (boucle `while`).  \n   > Après avoir affiché le score, poser : `Veux-tu rejouer ? (oui/non)`\n\n3. **Améliorer la fonction `poser_question`** :\n   - Si la réponse est fausse, **afficher la bonne réponse**.\n\n4. **Commentaire final selon le score** :\n   - Score parfait → “Bravo, tu es un·e vrai·e fan de Disney !”\n   - Score moyen → “Pas mal, mais tu peux faire mieux !”\n   - Score faible → “Tu dois réviser tes classiques Disney…”\n\n6. ** Tolérer les majuscules/minuscules et petits espaces** :\n   - On compare les réponses après `strip()` et en minuscules (`lower()` ou `casefold()`).\n   - Pour certaines questions, on peut accepter **plusieurs** réponses correctes (ex. `\"blanche-neige\"` et `\"blanche neige\"`).\n\n\n**À vous de jouer !**\n"
  },
  {
   "cell_type": "code",
   "execution_count": null,
   "metadata": {
    "trusted": true
   },
   "outputs": [],
   "source": "def evaluer_reponse(reponse, solution):\n    global score\n\n    if reponse.lower() == solution.lower(): # lower() transforme toutes les lettres en minuscules.\n        print(\"Bonne réponse !\")\n        score = score + 1\n    else:\n        print(\"Mauvaise réponse, tu feras mieux la prochaine fois !\")\n        # Amélioration 3: On affiche la réponse en cas de mauvaise réponse.\n        print(\"La réponse était:\", solution) \n\n# ========================= Programme principal ==========================================\nprint('Quiz sur le thème : Disney')\n\n# Amélioration 1: Demander le prénom\nprenom = input(\"Quel est ton prénom ? \")\nprint(\"Bonjour\",prenom,\"bienvenu(e) dans le quiz !\")\n\n# Amélioration 2: Boucle permettant de rejouer. La question est posée à la fin du jeu.\nrejouer = 'oui'     # variable initialisée à \"oui\" pour entrer dans la boucle while\nwhile rejouer.lower()  == 'oui':\n    score = 0       # Ne pas oublier de (ré)initialiser le score \n\n    ############ Question 1 \n    question = \"Q1: Quel est le nom du cowboy dans Toy Story ? \"\n    solution = 'Woody'\n    reponse = input(question)\n    evaluer_reponse(reponse, solution)\n\n    ############ Question 2\n    question = \"Q2: Quelle est la première princesse Disney apparue au cinéma ? \"\n    solution = 'Blanche-Neige'\n    reponse = input(question)\n    evaluer_reponse(reponse, solution)\n\n    ############ Question 3\n    question = \"Q3: Dans Le Roi Lion, quel est le nom du père de Simba ? \"\n    solution = 'Mufasa'\n    reponse = input(question)\n    evaluer_reponse(reponse, solution)\n\n    ############ Question 4\n    question = \"Q4: Dans Toy Story, quel est le rival puis ami de Woody ? \"\n    solution = \"Buzz l'Éclair\"\n    reponse = input(question)\n    evaluer_reponse(reponse, solution)\n\n    # Amélioration 4: Commentaire final en fonction du score.\n    if score == 4:\n        print(\"Bravo\", prenom, \", ton score est de :\", score, \". Tu es un·e vrai·e fan de Disney !\")\n    elif score >=2:\n        print(\"Pas mal\", prenom, \", ton score est de :\", score, \" mais tu peux faire mieux !\")\n    else:\n        print(\"Pas terrible\", prenom,\", ton score est de :\", score, \", --> Tu dois réviser tes classiques Disney…\")\n\n    # Variable permettant de rejouer    \n    rejouer = input(\"Veux-tu rejouer [oui / non]: \")"
  }
 ],
 "metadata": {
  "kernelspec": {
   "display_name": "Python 3",
   "language": "python",
   "name": "python3"
  }
 },
 "nbformat": 4,
 "nbformat_minor": 2
}
