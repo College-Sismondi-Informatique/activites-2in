{
 "cells": [
  {
   "cell_type": "markdown",
   "metadata": {},
   "source": "# Python — Comprendre `return` avec Turtle (version artistique 🖌️) — **Corrigé**\n\nSolutions proposées pour chaque exercice. Utilisation de `from turtle import *` et **`done()`** à la fin de chaque dessin."
  },
  {
   "cell_type": "markdown",
   "metadata": {},
   "source": "## 1) `print` vs `return` (démo)"
  },
  {
   "cell_type": "code",
   "execution_count": null,
   "metadata": {},
   "outputs": [],
   "source": "def double_print(x):\n    print(x*2)\n\ndef double_return(x):\n    return x*2\n\na = double_print(5)      # affiche 10\nprint('a =', a)          # None (pas de return)\n\nb = double_return(5)\nprint('b =', b)          # 10\nprint('b + 3 =', b + 3)"
  },
  {
   "cell_type": "markdown",
   "metadata": {},
   "source": "### ✏️ Exercice 1 — Triple (corrigé)"
  },
  {
   "cell_type": "code",
   "execution_count": null,
   "metadata": {},
   "outputs": [],
   "source": "def triple(x):\n    return 3*x\n\nprint(triple(2))\nprint(triple(7))"
  },
  {
   "cell_type": "markdown",
   "metadata": {},
   "source": "## 2) Rappel Turtle (trait simple)"
  },
  {
   "cell_type": "code",
   "execution_count": null,
   "metadata": {},
   "outputs": [],
   "source": "from turtle import *\nspeed(0)\npenup(); goto(-50,0); pendown(); forward(100)\ndone()"
  },
  {
   "cell_type": "markdown",
   "metadata": {},
   "source": "## 3) `palette()` et `choisir_couleur()` (corrigé) — Bandes colorées"
  },
  {
   "cell_type": "code",
   "execution_count": null,
   "metadata": {},
   "outputs": [],
   "source": "from turtle import *\nfrom random import choice\nspeed(0)\n\ndef palette(theme):\n    if theme == 'pastel':\n        return ['#AEC6CF','#FFB347','#77DD77','#CFCFC4','#F49AC2']\n    if theme == 'feu':\n        return ['#ff6b6b','#ff9f43','#feca57','#ee5253','#f368e0']\n    if theme == 'nuit':\n        return ['#222f3e','#1dd1a1','#48dbfb','#5f27cd','#c8d6e5']\n    if theme == 'ocean':\n        return ['#004e92','#000428','#00b4d8','#0077b6','#90e0ef']\n    return ['black','gray','white']\n\ndef choisir_couleur(theme):\n    pal = palette(theme)\n    return choice(pal)\n\nclear(); penup(); goto(-200,150); pendown(); width(20)\nfor i in range(10):\n    color(choisir_couleur('pastel'))\n    forward(400); right(90); forward(15); right(90)\n    forward(400); left(90); forward(15); left(90)\ndone()"
  },
  {
   "cell_type": "markdown",
   "metadata": {},
   "source": "### ✏️ Exercice 2 — Palette personnalisée 'océan' (corrigé) — Points alignés"
  },
  {
   "cell_type": "code",
   "execution_count": null,
   "metadata": {},
   "outputs": [],
   "source": "from turtle import *\nspeed(0); clear(); penup(); goto(-250, 0); pendown()\nfrom random import choice\n\ndef palette(theme):\n    if theme == 'ocean':\n        return ['#004e92','#000428','#00b4d8','#0077b6','#90e0ef']\n    return ['black','gray','white']\n\ndef choisir_couleur(theme):\n    from random import choice\n    return choice(palette(theme))\n\nfor i in range(12):\n    color(choisir_couleur('ocean'))\n    dot(20)\n    penup(); forward(40); pendown()\ndone()"
  },
  {
   "cell_type": "markdown",
   "metadata": {},
   "source": "## 4) Confettis — `position_aleatoire()` (corrigé)"
  },
  {
   "cell_type": "code",
   "execution_count": null,
   "metadata": {},
   "outputs": [],
   "source": "from turtle import *\nfrom random import randint, choice\nspeed(0); clear(); shape('turtle')\n\ndef position_aleatoire(xmin, xmax, ymin, ymax):\n    x = randint(xmin, xmax)\n    y = randint(ymin, ymax)\n    return (x, y)\n\ndef palette(theme):\n    if theme == 'feu':\n        return ['#ff6b6b','#ff9f43','#feca57','#ee5253','#f368e0']\n    return ['black','gray','white']\n\ndef choisir_couleur(theme):\n    return choice(palette(theme))\n\nfor _ in range(100):\n    color(choisir_couleur('feu'))\n    x, y = position_aleatoire(-250, 250, -180, 180)\n    penup(); goto(x,y); pendown()\n    if randint(0,1):\n        dot(randint(6,20))\n    else:\n        stamp()\ndone()"
  },
  {
   "cell_type": "markdown",
   "metadata": {},
   "source": "### ✏️ Exercice 3 — Confettis arc-en-ciel (corrigé)"
  },
  {
   "cell_type": "code",
   "execution_count": null,
   "metadata": {},
   "outputs": [],
   "source": "from turtle import *\nfrom random import randint\nspeed(0); clear(); shape('triangle'); colormode(255)\n\ndef couleur_au_hasard():\n    r = randint(0,255); g = randint(0,255); b = randint(0,255)\n    return (r, g, b)\n\ndef position_aleatoire(xmin, xmax, ymin, ymax):\n    return (randint(xmin, xmax), randint(ymin, ymax))\n\nfor _ in range(100):\n    color(couleur_au_hasard())\n    x, y = position_aleatoire(-250, 250, -180, 180)\n    penup(); goto(x,y); pendown()\n    if randint(0,1):\n        dot(randint(8,24))\n    else:\n        stamp()\ndone()"
  },
  {
   "cell_type": "markdown",
   "metadata": {},
   "source": "## 5) Pinceau `(taille, couleur)` — Spirale décorative (corrigé)"
  },
  {
   "cell_type": "code",
   "execution_count": null,
   "metadata": {},
   "outputs": [],
   "source": "from turtle import *\nfrom random import choice\nspeed(0); clear()\n\ndef palette(theme):\n    if theme == 'nuit':\n        return ['#222f3e','#1dd1a1','#48dbfb','#5f27cd','#c8d6e5']\n    if theme == 'pastel':\n        return ['#AEC6CF','#FFB347','#77DD77','#CFCFC4','#F49AC2']\n    return ['black','gray','white']\n\ndef choisir_couleur(theme):\n    return choice(palette(theme))\n\ndef pinceau(i):\n    taille = 1 + (i % 12)\n    c = choisir_couleur('nuit')\n    return (taille, c)\n\nangle = 25\nlongueur = 5\nfor i in range(120):\n    ep, col = pinceau(i)\n    width(ep); color(col)\n    forward(longueur)\n    right(angle)\n    longueur += 1\ndone()"
  },
  {
   "cell_type": "markdown",
   "metadata": {},
   "source": "### ✏️ Exercice 4 — `pinceau_doux(i)` (corrigé) — Spirale douce pastel"
  },
  {
   "cell_type": "code",
   "execution_count": null,
   "metadata": {},
   "outputs": [],
   "source": "from turtle import *\nfrom random import choice\nspeed(0); clear()\n\ndef palette(theme):\n    if theme == 'pastel':\n        return ['#AEC6CF','#FFB347','#77DD77','#CFCFC4','#F49AC2']\n    return ['black','gray','white']\n\ndef choisir_couleur(theme):\n    return choice(palette(theme))\n\ndef pinceau_doux(i):\n    taille = 1 + (i % 6)      # taille 1..6\n    c = choisir_couleur('pastel')\n    return (taille, c)\n\nangle = 17\nlongueur = 3\nfor i in range(160):\n    ep, col = pinceau_doux(i)\n    width(ep); color(col)\n    forward(longueur)\n    right(angle)\n    longueur += 0.8\ndone()"
  },
  {
   "cell_type": "markdown",
   "metadata": {},
   "source": "## 6) Rosace d’icônes (corrigé) — `angle_rosace(k)` et `choisir_forme(i)`"
  },
  {
   "cell_type": "code",
   "execution_count": null,
   "metadata": {},
   "outputs": [],
   "source": "from turtle import *\nfrom random import choice\nspeed(0); clear(); shape('turtle')\n\ndef palette(theme):\n    if theme == 'pastel':\n        return ['#AEC6CF','#FFB347','#77DD77','#CFCFC4','#F49AC2']\n    return ['black','gray','white']\n\ndef choisir_couleur(theme):\n    return choice(palette(theme))\n\ndef angle_rosace(k):\n    return 360 / k\n\ndef choisir_forme(i):\n    formes = ['circle','turtle','triangle']\n    return formes[i % 3]\n\nk = 18\nang = angle_rosace(k)\nfor i in range(k):\n    shape(choisir_forme(i))\n    color(choisir_couleur('pastel'))\n    penup(); forward(90); pendown()\n    if i % 2 == 0:\n        dot(18)\n    else:\n        stamp()\n    penup(); backward(90); pendown()\n    right(ang)\ndone()"
  },
  {
   "cell_type": "markdown",
   "metadata": {},
   "source": "## 7) Mosaïque thématique (corrigé) — `couleur_theme(i,j,theme)`"
  },
  {
   "cell_type": "code",
   "execution_count": null,
   "metadata": {},
   "outputs": [],
   "source": "from turtle import *\nfrom random import choice\nspeed(0); clear()\n\ndef palette(theme):\n    if theme == 'pastel':\n        return ['#AEC6CF','#FFB347','#77DD77','#CFCFC4','#F49AC2']\n    if theme == 'nuit':\n        return ['#222f3e','#1dd1a1','#48dbfb','#5f27cd','#c8d6e5']\n    if theme == 'feu':\n        return ['#ff6b6b','#ff9f43','#feca57','#ee5253','#f368e0']\n    return ['black','gray','white']\n\ndef couleur_theme(i, j, theme):\n    return choice(palette(theme))\n\nstart_x, start_y = -220, 160\nlignes, cols = 8, 12\nfor i in range(lignes):\n    for j in range(cols):\n        penup(); goto(start_x + j*40, start_y - i*35); pendown()\n        color(couleur_theme(i,j,'nuit'))\n        dot(10 + ((i+j) % 8))\ndone()"
  },
  {
   "cell_type": "markdown",
   "metadata": {},
   "source": "---\nNotebook généré automatiquement le 2025-09-14 19:05 — **version corrigée** (avec `done()` partout)."
  }
 ],
 "metadata": {
  "kernelspec": {
   "display_name": "Python 3",
   "language": "python",
   "name": "python3"
  },
  "language_info": {
   "name": "python",
   "version": "3.x"
  }
 },
 "nbformat": 4,
 "nbformat_minor": 5
}
