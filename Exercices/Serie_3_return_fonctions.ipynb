{
  "cells": [
    {
      "cell_type": "markdown",
      "metadata": {},
      "source": "# Cours Python : Utiliser `return` dans une fonction\n\n**Niveau** : Collège — 2e année\n\nCe cours présente la différence entre :\n- une fonction utilisée comme **procédure** (elle affiche quelque chose avec `print`),\n- une fonction qui **renvoie une valeur** avec `return`.\n\nNous allons voir pourquoi `return` est indispensable si on veut **réutiliser** le résultat d'une fonction.\n"
    },
    {
      "cell_type": "markdown",
      "metadata": {},
      "source": "## 1) Rappel : une fonction en Python\n\nUne fonction regroupe du code. Exemple :"
    },
    {
      "cell_type": "code",
      "metadata": {},
      "source": "def bonjour():\n    print(\"Bonjour !\")\n\nbonjour()",
      "outputs": [],
      "execution_count": null
    },
    {
      "cell_type": "markdown",
      "metadata": {},
      "source": "## 2) Différence entre `print` et `return`\n\n- `print` : affiche mais ne renvoie rien.\n- `return` : renvoie une valeur réutilisable."
    },
    {
      "cell_type": "code",
      "metadata": {},
      "source": "def double_print(x):\n    print(x*2)\n\ndef double_return(x):\n    return x*2\n\n# Version print\nres1 = double_print(5)\nprint(\"res1 =\", res1)\n\n# Version return\nres2 = double_return(5)\nprint(\"res2 =\", res2)\nprint(\"res2 + 3 =\", res2+3)",
      "outputs": [],
      "execution_count": null
    },
    {
      "cell_type": "markdown",
      "metadata": {},
      "source": "## 3) Exemple : fonction qui calcule le carré"
    },
    {
      "cell_type": "code",
      "metadata": {},
      "source": "def carre(x):\n    return x*x\n\nprint(carre(4))\na = carre(5)\nprint(a+10)",
      "outputs": [],
      "execution_count": null
    },
    {
      "cell_type": "markdown",
      "metadata": {},
      "source": "### ✏️ Exercice 1\nÉcris une fonction `cube(x)` qui renvoie le cube d'un nombre."
    },
    {
      "cell_type": "code",
      "metadata": {},
      "source": "# À compléter\n",
      "outputs": [],
      "execution_count": null
    },
    {
      "cell_type": "markdown",
      "metadata": {},
      "source": "## 4) Pourquoi utiliser `return` ?\n\nUne valeur renvoyée peut être :\n- stockée dans une variable,\n- utilisée dans un calcul,\n- passée comme paramètre à une autre fonction."
    },
    {
      "cell_type": "code",
      "metadata": {},
      "source": "def somme(a,b):\n    return a+b\n\nx = somme(3,7)\nprint(\"Somme:\", x)\nprint(\"Double de la somme:\", 2*somme(3,7))",
      "outputs": [],
      "execution_count": null
    },
    {
      "cell_type": "markdown",
      "metadata": {},
      "source": "### ✏️ Exercice 2\nÉcris une fonction `maximum(a,b)` qui renvoie le plus grand des deux nombres (sans `max`)."
    },
    {
      "cell_type": "code",
      "metadata": {},
      "source": "# À compléter\n",
      "outputs": [],
      "execution_count": null
    },
    {
      "cell_type": "markdown",
      "metadata": {},
      "source": "## 5) Fonctions et listes\n\nExemple : moyenne des notes."
    },
    {
      "cell_type": "code",
      "metadata": {},
      "source": "def moyenne(notes):\n    return sum(notes)/len(notes)\n\nnotes=[12,15,9,18]\nprint(\"Moyenne:\", moyenne(notes))",
      "outputs": [],
      "execution_count": null
    },
    {
      "cell_type": "markdown",
      "metadata": {},
      "source": "### ✏️ Exercice 3\nÉcris une fonction `mini(liste)` qui renvoie la plus petite valeur d'une liste (sans `min`)."
    },
    {
      "cell_type": "code",
      "metadata": {},
      "source": "# À compléter\n",
      "outputs": [],
      "execution_count": null
    },
    {
      "cell_type": "markdown",
      "metadata": {},
      "source": "## 6) Projet final : Notes d'un élève\n\n1. Demande combien de notes l'utilisateur veut entrer.\n2. Stocke-les dans une liste.\n3. Crée trois fonctions avec `return` :\n- `moyenne(liste)`\n- `meilleure(liste)`\n- `pire(liste)`\n4. Affiche les résultats.\n"
    },
    {
      "cell_type": "code",
      "metadata": {},
      "source": "# À compléter\n",
      "outputs": [],
      "execution_count": null
    },
    {
      "cell_type": "markdown",
      "metadata": {},
      "source": "---\nNotebook généré automatiquement le 2025-09-14 18:44."
    }
  ],
  "metadata": {
    "kernelspec": {
      "display_name": "Python 3",
      "language": "python",
      "name": "python3"
    },
    "language_info": {
      "name": "python",
      "version": "3.x"
    }
  },
  "nbformat": 4,
  "nbformat_minor": 5
}