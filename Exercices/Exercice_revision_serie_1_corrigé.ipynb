{
 "cells": [
  {
   "cell_type": "markdown",
   "metadata": {},
   "source": "<div style=\"padding:20px;background-color:papayawhip;\" > \n<h3 style=\"color:chocolate\"> <i class=\"fa fa-info\" aria-hidden=\"true\"> </i> &nbsp; Remarque introductive &nbsp;  <i class=\"fa fa-info\" aria-hidden=\"true\"></h3> \n<p> Ce fichier est fait pour être lu sur le site <a href=\"https://notebook.basthon.fr/\"><img src='https://notebook.basthon.fr/assets/efede5218c9087496f16.png' style=\"border: 0; display:inline; margin: 0 5px; height:30px\" alt=\"Basthon\"/></a>. <br>\n    \nSi vous l'avez ouvert avec un autre programme, comme Jupyter notebook, vous riquez de rencontrer quelques bugs. <br>\nVeuillez cliquez sur <a href=\"https://notebook.basthon.fr/\">ce lien</a> et y charger ce fichier à l'aide du bouton \"Ouvrir\"  &nbsp; <i class=\"fa fa-folder\" aria-hidden=\"true\"> </i>\n</p> </div>    "
  },
  {
   "cell_type": "markdown",
   "metadata": {},
   "source": "<h3 style=\"color:teal;background-color:azure;\" > <i class=\"fa fa-pencil\" aria-hidden=\"true\"> </i> &nbsp; Exercice - Quiz (révision if - elif - else) </h3>\n\nCréez un quiz avec des questions à choix multiple sur un sujet de culture générale, dans le style des quiz sur le site Kahoot.\n\n- Complétez pour avoir 4 questions\n- Ajoutez le calcul du score"
  },
  {
   "cell_type": "code",
   "execution_count": null,
   "metadata": {
    "trusted": true
   },
   "outputs": [],
   "source": "print('Quiz sur le thème : Disney')\n\nscore = 0\n\ndef poser_question(question, reponse, solution):\n    global score\n\n    if reponse == solution:\n        print(\"Bonne réponse !\")\n        score = score + 1\n    else:\n        print(\"Mauvaise réponse, tu feras mieux la prochaine fois !\")\n\n############ Question 1 \nquestion = \"Quel est le nom du cowboy dans Toy Story ?\"\nsolution = 'Woody'\nreponse = input(question)\nposer_question(question, reponse, solution)\n\n############ Question 2\nquestion = \"Quelle est la première princesse Disney apparue au cinéma ?\"\nsolution = 'Blanche-Neige'\nreponse = input(question)\nposer_question(question, reponse, solution)\n\n############ Question 3\nquestion = \"Dans Le Roi Lion, quel est le nom du père de Simba ?\"\nsolution = 'Mufasa'\nreponse = input(question)\nposer_question(question, reponse, solution)\n\n############ Question 4\nquestion = \"Dans Toy Story, quel est le rival puis ami de Woody ?\"\nsolution = 'Buzz l’Éclair'\nreponse = input(question)\nposer_question(question, reponse, solution)\n\nprint('Votre score est de:', score)"
  },
  {
   "cell_type": "markdown",
   "metadata": {},
   "source": "<h3 style=\"color:teal;background-color:azure;\" > <i class=\"fa fa-pencil\" aria-hidden=\"true\"> </i> &nbsp; Exercice - Paquebot - (révision boucle for)</h3>\n\nUne boucle `for` est utilisée dans l'exemple suivant pour dessiner les hublots d'un paquebot. Les hublots sont numérotés en utilisant la variable `i`.\n\nCréez une fonction `paquebot()` et dessinez-en un deuxième.\n"
  },
  {
   "cell_type": "code",
   "execution_count": null,
   "metadata": {
    "trusted": true
   },
   "outputs": [],
   "source": "from turtle import *\n\ndef paquebot():\n    forward(200)\n    left(80)\n    forward(60)\n    left(100)\n    forward(220)\n    left(100)\n    forward(60)\n\n    up()\n    left(125)\n    forward(40)\n    right(45)\n\n    for i in range(6):\n        dot(20, 'lightgray')\n        write(i, font=('Arial', 20, 'normal'))\n        forward(30)\n\n# Programme principal\npaquebot()\ngoto(-300,0)\ndown()\npaquebot()\nhideturtle() \ndone()"
  },
  {
   "cell_type": "markdown",
   "metadata": {
    "trusted": true
   },
   "source": "<h3 style=\"color:teal;background-color:azure;\" > <i class=\"fa fa-pencil\" aria-hidden=\"true\"> </i> &nbsp; Exercice - Chemin de fer - (révision boucle for)</h3>\n\nAvec des rails de chemin de fer, dessinez un circuit en forme d'un rond (deux rails avec les traverses).\n![rails](https://raw.githubusercontent.com/edunumsec2/book/master/src/appr/prog1/media/rails2.png)\n\nUtilisez une boucle `for` pour la répétition des traverses.\n"
  },
  {
   "cell_type": "code",
   "execution_count": null,
   "metadata": {
    "trusted": true
   },
   "outputs": [],
   "source": "from turtle import *\n\n# Permet de placer la tortue en position x,y sans dessiner\ndef deplace_tortue(x,y):\n    up()\n    goto(x,y)\n    down()\n\n\n# Permet de dessiner les traverses un peu plus large que la distance entre les\n# deux cercles (2 points de plus).\ndef traverse(rayon, nb_de_traverse):\n    arc = 360 // nb_de_traverse\n    for k in range(nb_de_traverse):\n        circle(rayon, arc)\n        right(90)\n        width(6)\n        forward(22)    # dessine la traverse en dépassant de 2 points\n        backward(24)   # revient en arrière et dépasse dans le cercle intérieur de 2 points\n        forward(2)     # revient sur le cercle intérieur\n        width(4)\n        left(90)\n\n# Programme principal\nspeed(0)\nwidth(4)\ndeplace_tortue(0,-100)\ncircle(120)\ndeplace_tortue(0,-80)\ntraverse(100, 36)\nhideturtle()\n\ndone()"
  },
  {
   "cell_type": "markdown",
   "metadata": {},
   "source": "<h3 style=\"color:teal;background-color:azure;\" > <i class=\"fa fa-pencil\" aria-hidden=\"true\"> </i> &nbsp; Exercice - Arbre - (Révision fonction)</h3>\n\nPour dessiner un arbre simple, nous utilisons un segment droit pour le tronc et un disque (dot) pour le feuillage.\nC'est une fonction qui a 3 paramètres\n\n- `d` -- longueur du tronc\n- `c` -- couleur du tronc\n- `c2` -- couleur du feuillage\n\nDéfinissez et utilisez une fonction `foret(n)` qui dessine `n` arbres.\n\n"
  },
  {
   "cell_type": "code",
   "execution_count": null,
   "metadata": {
    "trusted": true
   },
   "outputs": [],
   "source": "from turtle import *\nfrom random import *\n\n# Permet de placer la tortue en position x,y sans dessiner\ndef deplace_tortue(x,y):\n    up()\n    goto(x,y)\n    down()\n\ndef arbre(d, c, c2):\n    down()\n    left(90)\n    width(d/6)      # tronc\n    pencolor(c)\n    forward(d)\n    dot(d, c2)      # feuillage\n    up()\n    backward(d)     # retourner à la position de départ\n    right(90)\n\ndef foret(n):\n    verts = [\n    \"green\", \"lime\", \"limegreen\", \"forestgreen\", \"darkgreen\",\n    \"seagreen\", \"mediumseagreen\", \"springgreen\", \"mediumspringgreen\",\n    \"palegreen\", \"lightgreen\", \"yellowgreen\", \"lawngreen\",\n    \"olivedrab\", \"darkolivegreen\", \"chartreuse\", \"aquamarine\",\n    \"mediumaquamarine\", \"darkseagreen\", \"lightseagreen\", \"olive\", \"teal\"]\n    \n    for _ in range(n):\n        x = randint(-250, 250)\n        y =  randint(-200, 30)\n        taille = randint(50, 150)\n        couleur = choice(verts)\n        deplace_tortue(x,y)\n        arbre(taille, 'brown', couleur)\n\nspeed(0)\nforet(12)\nhideturtle()\ndone()"
  },
  {
   "cell_type": "markdown",
   "metadata": {},
   "source": "### Boucle while: tomber dans une boucle infinie\n\nIl est fréquent d'oublier une ligne de code, et d'écrire une boucle while qui ne se termine pas.\n\nPar exemple, dans le programme\n\n```python\nn = 0\nwhile n < 10 :\n    print(n)\n```\nLa condition `n < 10` sera toujours vraie car on a oublié d'incrémenter la variable. Il aurait fallut écrire\n```python\nn = 0\nwhile n < 10 :\n    print(n)\n    n = n + 1\n```"
  },
  {
   "cell_type": "markdown",
   "metadata": {},
   "source": "<h3 style=\"color:chocolate;background-color:papayawhip;\" > <i class=\"fa fa-question\" aria-hidden=\"true\"> </i> &nbsp; Quizz </h3> \n \nParmi les programme suivant choisi celui qui part en boucle infini.\n\n   <input type=\"checkbox\" >  **Programme A**\n```python\ni = A - 1\nwhile i < A :\n   i = i - 1\n```\n   <input type=\"checkbox\" >  **Programme B**\n```python\ni = A + 1\nwhile i < A :\n   i = i - 1\n```\n\n   <input type=\"checkbox\" >  **Programme C**\n```python\ni = A + 1\nwhile i < A :\n   i = i + 1\n```\n\n   <input type=\"checkbox\" >  **Programme D**\n```python\ni = A - 1\nwhile i < A :\n   i = i + 1\n```"
  },
  {
   "cell_type": "markdown",
   "metadata": {},
   "source": "<details>\n<summary style=\"border-left:3px solid #3c763d; border-radius:2pt; width:100%; color:#3c763d; padding:6px; background-color: #dff0d8\"> \nRéponse\n</summary>  \n\n<div style=\"border-left:3px solid #3c763d; border-radius:2pt; color:#3c763d; padding:6px; background-color: #eff0e8\">Programme A) car i est décrémenté, donc il devient de plus en plus petit et il ne dépassera jamais A et la condition i < A sera toujours vraie\n</div>\n</details>\n                "
  },
  {
   "cell_type": "markdown",
   "metadata": {},
   "source": "---\n\n#### Remarque générale\n\nCe document est une adaptation d'un ressource pédagogique tiré du catalogue modulo https://modulo-info.ch/. Il est sous license Creative Commons [BY-NC-SA](https://creativecommons.org/licenses/?lang=fr)\n![Licence Creative Commons](https://i.creativecommons.org/l/by-nc-sa/4.0/88x31.png)\n\n    "
  }
 ],
 "metadata": {
  "kernelspec": {
   "display_name": "Python 3",
   "language": "python",
   "name": "python3"
  }
 },
 "nbformat": 4,
 "nbformat_minor": 2
}
