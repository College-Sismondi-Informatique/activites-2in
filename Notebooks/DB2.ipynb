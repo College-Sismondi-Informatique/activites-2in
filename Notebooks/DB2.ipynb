{
 "cells": [
  {
   "cell_type": "markdown",
   "metadata": {},
   "source": "# Premier pas en SQL\n"
  },
  {
   "cell_type": "markdown",
   "metadata": {},
   "source": "Voici une base de données eprésente la base de données des médailles olympiques de 1976 à 2008\n\n**Cliquez sur la cellule ci-dessous et appuyer sur Ctrl+Enter** pour afficher la base de données."
  },
  {
   "cell_type": "code",
   "execution_count": null,
   "metadata": {
    "trusted": false
   },
   "outputs": [],
   "source": "SELECT * FROM Medals"
  },
  {
   "cell_type": "markdown",
   "metadata": {},
   "source": "Cette base de donnée est composée d'une seule table avec les champs suivants :\n* Medals: est le nom de la table.\n* Id, City, Year, Sport, … sont les attributs de la table Medals.\n* Les attributs sont typés (comme une variable en python): entier (integer), texte (TEXT),\n\n\n| Attribut    | Type      |\n| ------------- | ------------- |\n| Id | INTEGER (clé) |\n| City | TEXT |\n| Year | INTEGER |\n| Sport | TEXT |\n| Discipline | TEXT |\n| Event | TEXT |\n| Athlete | TEXT |\n| Gender | TEXT |\n| Country_code | TEXT |\n| Country | TEXT |\n| Event_Gender | TEXT |\n| Medal | TEXT |"
  },
  {
   "cell_type": "markdown",
   "metadata": {},
   "source": "<h3 style=\"color:teal;background-color:azure;\" > <i class=\"fa fa-pencil\" aria-hidden=\"true\"> </i> &nbsp; Exercice 1 </h3>\n\nTester chacune des requêtes suivantes en observant bien les résultats renvoyés. En déduire quelles données sont extraites de la base à l'aide de ces requêtes et **compléter le mémo reçu sur papier**.\n"
  },
  {
   "cell_type": "code",
   "execution_count": null,
   "metadata": {
    "trusted": false
   },
   "outputs": [],
   "source": "SELECT * FROM Medals WHERE Year=2008 AND Country=\"France\";"
  },
  {
   "cell_type": "raw",
   "metadata": {},
   "source": "Données extraites : "
  },
  {
   "cell_type": "code",
   "execution_count": null,
   "metadata": {
    "trusted": false
   },
   "outputs": [],
   "source": "SELECT Athlete, Event FROM Medals WHERE Medal=\"Gold\" AND Country=\"France\" AND Year=2000 ORDER BY Athlete ASC;"
  },
  {
   "cell_type": "raw",
   "metadata": {},
   "source": "Données extraites : "
  },
  {
   "cell_type": "code",
   "execution_count": null,
   "metadata": {
    "trusted": false
   },
   "outputs": [],
   "source": "SELECT Athlete, Event FROM Medals WHERE Medal=\"Gold\" AND Country=\"France\" AND Year=2000 ORDER BY Athlete ASC;"
  },
  {
   "cell_type": "raw",
   "metadata": {},
   "source": "Données extraites : "
  },
  {
   "cell_type": "code",
   "execution_count": null,
   "metadata": {
    "trusted": false
   },
   "outputs": [],
   "source": "SELECT DISTINCT Country FROM Medals WHERE Medal=\"Gold\" AND YEAR=\"1984\" ORDER BY Country DESC;"
  },
  {
   "cell_type": "raw",
   "metadata": {},
   "source": "Données extraites : "
  },
  {
   "cell_type": "code",
   "execution_count": null,
   "metadata": {
    "trusted": false
   },
   "outputs": [],
   "source": "SELECT DISTINCT Country FROM medals WHERE Discipline=\"Football\" AND YEAR>=1990 AND YEAR<2000;"
  },
  {
   "cell_type": "raw",
   "metadata": {},
   "source": "Données extraites : "
  },
  {
   "cell_type": "code",
   "execution_count": null,
   "metadata": {
    "trusted": false
   },
   "outputs": [],
   "source": "SELECT DISTINCT Country FROM Medals WHERE Medal=\"Gold\" OR YEAR=\"1984\" ORDER BY Country DESC LIMIT 5;"
  },
  {
   "cell_type": "raw",
   "metadata": {},
   "source": "Données extraites : "
  },
  {
   "cell_type": "code",
   "execution_count": null,
   "metadata": {
    "trusted": false
   },
   "outputs": [],
   "source": "SELECT Athlete, City, Year, Medal, country FROM medals WHERE country LIKE \"%nia\";"
  },
  {
   "cell_type": "raw",
   "metadata": {},
   "source": "Données extraites : "
  },
  {
   "cell_type": "markdown",
   "metadata": {
    "tags": [
     "breakpoint"
    ]
   },
   "source": "*Ctrl+Enter pour continuer*"
  },
  {
   "cell_type": "markdown",
   "metadata": {},
   "source": "<h3 style=\"color:teal;background-color:azure;\" > <i class=\"fa fa-pencil\" aria-hidden=\"true\"> </i> &nbsp; Exercice 2 </h3>\n\nEcrire les requêtes SQL permettant d'extraire de cette base de données les\ninformations suivantes :\n\n"
  },
  {
   "cell_type": "markdown",
   "metadata": {},
   "source": "\na. Les noms de tous les athlètes français ayant obtenu une médaille d'or\naux jeux olympiques de 1984.\n\n\n"
  },
  {
   "cell_type": "code",
   "execution_count": null,
   "metadata": {
    "trusted": false
   },
   "outputs": [],
   "source": ""
  },
  {
   "cell_type": "markdown",
   "metadata": {},
   "source": "b. Les noms de tous les champions olympiques en Judo de 1976 à 2008.(regarder l’exemple avec la commande DISTINCT)\n\n"
  },
  {
   "cell_type": "code",
   "execution_count": null,
   "metadata": {
    "trusted": false
   },
   "outputs": [],
   "source": ""
  },
  {
   "cell_type": "markdown",
   "metadata": {},
   "source": "c. Les épreuves dans lesquelles le champion de natation américain\nMichael Phelps a obtenu des médailles en 2004.\n"
  },
  {
   "cell_type": "code",
   "execution_count": null,
   "metadata": {
    "trusted": false
   },
   "outputs": [],
   "source": ""
  },
  {
   "cell_type": "markdown",
   "metadata": {},
   "source": "d. Tous les athlètes médaillés entre 1976 et 2008 dont le nom contient\n\"Richardson\". Le handballeur d'origine réunionnaise Jackson Richardson\ndevrait bien sûr y figurer !\n"
  },
  {
   "cell_type": "code",
   "execution_count": null,
   "metadata": {
    "trusted": true
   },
   "outputs": [],
   "source": ""
  },
  {
   "cell_type": "markdown",
   "metadata": {
    "tags": [
     "breakpoint"
    ],
    "trusted": false
   },
   "source": "*Ctrl+Enter pour continuer*"
  },
  {
   "cell_type": "markdown",
   "metadata": {},
   "source": "Suite au prochaine épisode... "
  }
 ],
 "metadata": {
  "celltoolbar": "Tags",
  "kernelspec": {
   "display_name": "SQL",
   "language": "sql",
   "name": "sql"
  }
 },
 "nbformat": 4,
 "nbformat_minor": 2
}
