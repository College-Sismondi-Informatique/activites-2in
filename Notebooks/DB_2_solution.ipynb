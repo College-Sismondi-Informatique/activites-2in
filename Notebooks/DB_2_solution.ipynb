{
 "cells": [
  {
   "cell_type": "markdown",
   "metadata": {},
   "source": "# Premier pas en SQL - Suite\n"
  },
  {
   "cell_type": "markdown",
   "metadata": {},
   "source": "## Opérations sur les colonnes"
  },
  {
   "cell_type": "markdown",
   "metadata": {},
   "source": "Voici une nouvelle table nommée **RR** avec la structure suivante : \n\n| Attribut    | Type      | Explication |\n| ------------- | ------------- | ------------- |\n| id | INTEGER (clé) |  |\n| Country | TEXT |  |\n| Year | INTEGER |  |\n| DebtToGDP | REAL | dette en pourcentage du PIB |\n| Growth | REAL | la croissance |\n| DebtCategory | INTEGER |  |\n\n\n\n"
  },
  {
   "cell_type": "markdown",
   "metadata": {},
   "source": "<h3 style=\"color:teal;background-color:azure;\" > <i class=\"fa fa-pencil\" aria-hidden=\"true\"> </i> &nbsp; Exercice 1 </h3>\n\nQuelques requêtes pour s'échauffer...\n\na) Entrer une requête SQL pour afficher la table : "
  },
  {
   "cell_type": "code",
   "execution_count": 1,
   "metadata": {
    "trusted": true
   },
   "outputs": [
    {
     "data": {
      "text/html": "<table class=\"dataframe\" border=\"1\"><thead><tr style=\"text-align: right;\"><th>Id</th><th>Country</th><th>Year</th><th>DebtToGDP</th><th>Growth</th><th>DebtCategory</th></tr></thead><tbody><tr><td>1</td><td>Australia</td><td>1946</td><td>190.42</td><td>-3.56</td><td>4</td></tr><tr><td>2</td><td>Australia</td><td>1947</td><td>177.32</td><td>2.46</td><td>4</td></tr><tr><td>3</td><td>Australia</td><td>1948</td><td>148.93</td><td>6.44</td><td>4</td></tr><tr><td>4</td><td>Australia</td><td>1949</td><td>125.83</td><td>6.61</td><td>4</td></tr><tr><td>5</td><td>Australia</td><td>1950</td><td>109.81</td><td>6.92</td><td>4</td></tr><tr><td>6</td><td>Australia</td><td>1951</td><td>87.09</td><td>4.27</td><td>3</td></tr><tr><td>7</td><td>Australia</td><td>1952</td><td>86.07</td><td>0.9</td><td>3</td></tr><tr><td>8</td><td>Australia</td><td>1953</td><td>79.87</td><td>3.12</td><td>3</td></tr><tr><td>9</td><td>Australia</td><td>1954</td><td>76.85</td><td>6.22</td><td>3</td></tr><tr><td>10</td><td>Australia</td><td>1955</td><td>74.98</td><td>5.46</td><td>3</td></tr><tr><td>11</td><td>Australia</td><td>1956</td><td>71.82</td><td>3.44</td><td>3</td></tr><tr><td>12</td><td>Australia</td><td>1957</td><td>67.72</td><td>2</td><td>3</td></tr><tr><td>13</td><td>Australia</td><td>1958</td><td>66.05</td><td>4.8</td><td>3</td></tr><tr><td>14</td><td>Australia</td><td>1959</td><td>62.39</td><td>6.16</td><td>3</td></tr><tr><td>15</td><td>Australia</td><td>1960</td><td>48.34</td><td>4.19</td><td>2</td></tr><tr><td>16</td><td>Australia</td><td>1961</td><td>49.38</td><td>0.69</td><td>2</td></tr><tr><td>17</td><td>Australia</td><td>1962</td><td>50.33</td><td>6.25</td><td>2</td></tr><tr><td>18</td><td>Australia</td><td>1963</td><td>47.59</td><td>6.13</td><td>2</td></tr><tr><td>19</td><td>Australia</td><td>1964</td><td>45.01</td><td>6.84</td><td>2</td></tr><tr><td>20</td><td>Australia</td><td>1965</td><td>43.74</td><td>5.11</td><td>2</td></tr><tr><td>21</td><td>Australia</td><td>1966</td><td>42.48</td><td>2.78</td><td>2</td></tr><tr><td>22</td><td>Australia</td><td>1967</td><td>40.53</td><td>6.75</td><td>2</td></tr><tr><td>23</td><td>Australia</td><td>1968</td><td>39.49</td><td>5.88</td><td>2</td></tr><tr><td>24</td><td>Australia</td><td>1969</td><td>36.8</td><td>6.08</td><td>2</td></tr><tr><td>25</td><td>Australia</td><td>1970</td><td>34.96</td><td>6.36</td><td>2</td></tr><tr><td>26</td><td>Australia</td><td>1971</td><td>32.29</td><td>4.45</td><td>2</td></tr><tr><td>27</td><td>Australia</td><td>1972</td><td>30.72</td><td>2.81</td><td>2</td></tr><tr><td>28</td><td>Australia</td><td>1973</td><td>27.36</td><td>5.42</td><td>1</td></tr><tr><td>29</td><td>Australia</td><td>1974</td><td>22.37</td><td>2.48</td><td>1</td></tr><tr><td>30</td><td>Australia</td><td>1975</td><td>23.64</td><td>2.71</td><td>1</td></tr><tr><td>31</td><td>Australia</td><td>1976</td><td>22.98</td><td>4.03</td><td>1</td></tr><tr><td>32</td><td>Australia</td><td>1977</td><td>23.64</td><td>1.05</td><td>1</td></tr><tr><td>33</td><td>Australia</td><td>1978</td><td>24.73</td><td>2.9</td><td>1</td></tr><tr><td>34</td><td>Australia</td><td>1979</td><td>20.87</td><td>5.27</td><td>1</td></tr><tr><td>35</td><td>Australia</td><td>1980</td><td>19.12</td><td>2</td><td>1</td></tr><tr><td>36</td><td>Australia</td><td>1981</td><td>16.18</td><td>4.16</td><td>1</td></tr><tr><td>37</td><td>Australia</td><td>1982</td><td>15.04</td><td>-0.01</td><td>1</td></tr><tr><td>38</td><td>Australia</td><td>1983</td><td>17.58</td><td>-0.53</td><td>1</td></tr><tr><td>39</td><td>Australia</td><td>1984</td><td>20.06</td><td>6.41</td><td>1</td></tr><tr><td>40</td><td>Australia</td><td>1985</td><td>21.42</td><td>5.72</td><td>1</td></tr><tr><td>41</td><td>Australia</td><td>1986</td><td>21.49</td><td>2.11</td><td>1</td></tr><tr><td>42</td><td>Australia</td><td>1987</td><td>19.99</td><td>4.4</td><td>1</td></tr><tr><td>43</td><td>Australia</td><td>1988</td><td>16.29</td><td>4.03</td><td>1</td></tr><tr><td>44</td><td>Australia</td><td>1989</td><td>12.5</td><td>4.57</td><td>1</td></tr><tr><td>45</td><td>Australia</td><td>1990</td><td>10.33</td><td>1.6</td><td>1</td></tr><tr><td>46</td><td>Australia</td><td>1991</td><td>9.31</td><td>-1.25</td><td>1</td></tr><tr><td>47</td><td>Australia</td><td>1992</td><td>10.87</td><td>2.11</td><td>1</td></tr><tr><td>48</td><td>Australia</td><td>1993</td><td>13.81</td><td>3.9</td><td>1</td></tr><tr><td>49</td><td>Australia</td><td>1994</td><td>15.92</td><td>5.01</td><td>1</td></tr><tr><td>50</td><td>Australia</td><td>1995</td><td>18.38</td><td>3.49</td><td>1</td></tr><tr><td>⋮ </td><td>⋮ </td><td>⋮ </td><td>⋮ </td><td>⋮ </td><td>⋮ </td></tr><tr><td>1126</td><td>US</td><td>1960</td><td>54.39</td><td>2.48</td><td>2</td></tr><tr><td>1127</td><td>US</td><td>1961</td><td>53.04</td><td>2.33</td><td>2</td></tr><tr><td>1128</td><td>US</td><td>1962</td><td>50.91</td><td>6.06</td><td>2</td></tr><tr><td>1129</td><td>US</td><td>1963</td><td>49.51</td><td>4.37</td><td>2</td></tr><tr><td>1130</td><td>US</td><td>1964</td><td>46.97</td><td>5.79</td><td>2</td></tr><tr><td>1131</td><td>US</td><td>1965</td><td>44.12</td><td>6.42</td><td>2</td></tr><tr><td>1132</td><td>US</td><td>1966</td><td>40.61</td><td>6.52</td><td>2</td></tr><tr><td>1133</td><td>US</td><td>1967</td><td>39.19</td><td>2.53</td><td>2</td></tr><tr><td>1134</td><td>US</td><td>1968</td><td>38.2</td><td>4.84</td><td>2</td></tr><tr><td>1135</td><td>US</td><td>1969</td><td>35.93</td><td>3.11</td><td>2</td></tr><tr><td>1136</td><td>US</td><td>1970</td><td>35.72</td><td>0.19</td><td>2</td></tr><tr><td>1137</td><td>US</td><td>1971</td><td>35.33</td><td>3.36</td><td>2</td></tr><tr><td>1138</td><td>US</td><td>1972</td><td>34.51</td><td>5.31</td><td>2</td></tr><tr><td>1139</td><td>US</td><td>1973</td><td>33.14</td><td>5.79</td><td>2</td></tr><tr><td>1140</td><td>US</td><td>1974</td><td>31.68</td><td>-0.55</td><td>2</td></tr><tr><td>1141</td><td>US</td><td>1975</td><td>32.56</td><td>-0.21</td><td>2</td></tr><tr><td>1142</td><td>US</td><td>1976</td><td>34</td><td>5.37</td><td>2</td></tr><tr><td>1143</td><td>US</td><td>1977</td><td>34.42</td><td>4.6</td><td>2</td></tr><tr><td>1144</td><td>US</td><td>1978</td><td>33.64</td><td>5.58</td><td>2</td></tr><tr><td>1145</td><td>US</td><td>1979</td><td>32.26</td><td>3.12</td><td>2</td></tr><tr><td>1146</td><td>US</td><td>1980</td><td>32.56</td><td>-0.27</td><td>2</td></tr><tr><td>1147</td><td>US</td><td>1981</td><td>31.91</td><td>2.54</td><td>2</td></tr><tr><td>1148</td><td>US</td><td>1982</td><td>35.1</td><td>-1.94</td><td>2</td></tr><tr><td>1149</td><td>US</td><td>1983</td><td>38.96</td><td>4.52</td><td>2</td></tr><tr><td>1150</td><td>US</td><td>1984</td><td>40</td><td>7.19</td><td>2</td></tr><tr><td>1151</td><td>US</td><td>1985</td><td>43.23</td><td>4.14</td><td>2</td></tr><tr><td>1152</td><td>US</td><td>1986</td><td>47.65</td><td>3.46</td><td>2</td></tr><tr><td>1153</td><td>US</td><td>1987</td><td>49.62</td><td>3.2</td><td>2</td></tr><tr><td>1154</td><td>US</td><td>1988</td><td>51.02</td><td>4.11</td><td>2</td></tr><tr><td>1155</td><td>US</td><td>1989</td><td>52.12</td><td>3.57</td><td>2</td></tr><tr><td>1156</td><td>US</td><td>1990</td><td>55.74</td><td>1.88</td><td>2</td></tr><tr><td>1157</td><td>US</td><td>1991</td><td>61.17</td><td>-0.23</td><td>3</td></tr><tr><td>1158</td><td>US</td><td>1992</td><td>64.09</td><td>3.39</td><td>3</td></tr><tr><td>1159</td><td>US</td><td>1993</td><td>66.17</td><td>2.85</td><td>3</td></tr><tr><td>1160</td><td>US</td><td>1994</td><td>66.23</td><td>4.07</td><td>3</td></tr><tr><td>1161</td><td>US</td><td>1995</td><td>67.08</td><td>2.51</td><td>3</td></tr><tr><td>1162</td><td>US</td><td>1996</td><td>66.66</td><td>3.74</td><td>3</td></tr><tr><td>1163</td><td>US</td><td>1997</td><td>64.97</td><td>4.46</td><td>3</td></tr><tr><td>1164</td><td>US</td><td>1998</td><td>62.84</td><td>4.36</td><td>3</td></tr><tr><td>1165</td><td>US</td><td>1999</td><td>60.47</td><td>4.83</td><td>3</td></tr><tr><td>1166</td><td>US</td><td>2000</td><td>57.02</td><td>4.14</td><td>2</td></tr><tr><td>1167</td><td>US</td><td>2001</td><td>56.46</td><td>1.08</td><td>2</td></tr><tr><td>1168</td><td>US</td><td>2002</td><td>58.52</td><td>1.81</td><td>2</td></tr><tr><td>1169</td><td>US</td><td>2003</td><td>60.88</td><td>2.49</td><td>3</td></tr><tr><td>1170</td><td>US</td><td>2004</td><td>62.18</td><td>3.57</td><td>3</td></tr><tr><td>1171</td><td>US</td><td>2005</td><td>62.77</td><td>3.05</td><td>3</td></tr><tr><td>1172</td><td>US</td><td>2006</td><td>63.49</td><td>2.67</td><td>3</td></tr><tr><td>1173</td><td>US</td><td>2007</td><td>63.99</td><td>2.14</td><td>3</td></tr><tr><td>1174</td><td>US</td><td>2008</td><td>74.09</td><td>0.44</td><td>3</td></tr><tr><td>1175</td><td>US</td><td>2009</td><td>83.48</td><td>-2.73</td><td>3</td></tr></tbody></table>",
      "text/plain": "Id\tCountry\tYear\tDebtToGDP\tGrowth\tDebtCategory\n1\tAustralia\t1946\t190.42\t-3.56\t4\n2\tAustralia\t1947\t177.32\t2.46\t4\n3\tAustralia\t1948\t148.93\t6.44\t4\n4\tAustralia\t1949\t125.83\t6.61\t4\n5\tAustralia\t1950\t109.81\t6.92\t4\n6\tAustralia\t1951\t87.09\t4.27\t3\n7\tAustralia\t1952\t86.07\t0.9\t3\n8\tAustralia\t1953\t79.87\t3.12\t3\n9\tAustralia\t1954\t76.85\t6.22\t3\n10\tAustralia\t1955\t74.98\t5.46\t3\n11\tAustralia\t1956\t71.82\t3.44\t3\n12\tAustralia\t1957\t67.72\t2\t3\n13\tAustralia\t1958\t66.05\t4.8\t3\n14\tAustralia\t1959\t62.39\t6.16\t3\n15\tAustralia\t1960\t48.34\t4.19\t2\n16\tAustralia\t1961\t49.38\t0.69\t2\n17\tAustralia\t1962\t50.33\t6.25\t2\n18\tAustralia\t1963\t47.59\t6.13\t2\n19\tAustralia\t1964\t45.01\t6.84\t2\n20\tAustralia\t1965\t43.74\t5.11\t2\n21\tAustralia\t1966\t42.48\t2.78\t2\n22\tAustralia\t1967\t40.53\t6.75\t2\n23\tAustralia\t1968\t39.49\t5.88\t2\n24\tAustralia\t1969\t36.8\t6.08\t2\n25\tAustralia\t1970\t34.96\t6.36\t2\n26\tAustralia\t1971\t32.29\t4.45\t2\n27\tAustralia\t1972\t30.72\t2.81\t2\n28\tAustralia\t1973\t27.36\t5.42\t1\n29\tAustralia\t1974\t22.37\t2.48\t1\n30\tAustralia\t1975\t23.64\t2.71\t1\n31\tAustralia\t1976\t22.98\t4.03\t1\n32\tAustralia\t1977\t23.64\t1.05\t1\n33\tAustralia\t1978\t24.73\t2.9\t1\n34\tAustralia\t1979\t20.87\t5.27\t1\n35\tAustralia\t1980\t19.12\t2\t1\n36\tAustralia\t1981\t16.18\t4.16\t1\n37\tAustralia\t1982\t15.04\t-0.01\t1\n38\tAustralia\t1983\t17.58\t-0.53\t1\n39\tAustralia\t1984\t20.06\t6.41\t1\n40\tAustralia\t1985\t21.42\t5.72\t1\n41\tAustralia\t1986\t21.49\t2.11\t1\n42\tAustralia\t1987\t19.99\t4.4\t1\n43\tAustralia\t1988\t16.29\t4.03\t1\n44\tAustralia\t1989\t12.5\t4.57\t1\n45\tAustralia\t1990\t10.33\t1.6\t1\n46\tAustralia\t1991\t9.31\t-1.25\t1\n47\tAustralia\t1992\t10.87\t2.11\t1\n48\tAustralia\t1993\t13.81\t3.9\t1\n49\tAustralia\t1994\t15.92\t5.01\t1\n50\tAustralia\t1995\t18.38\t3.49\t1\n⋮ \t⋮ \t⋮ \t⋮ \t⋮ \t⋮ \n1126\tUS\t1960\t54.39\t2.48\t2\n1127\tUS\t1961\t53.04\t2.33\t2\n1128\tUS\t1962\t50.91\t6.06\t2\n1129\tUS\t1963\t49.51\t4.37\t2\n1130\tUS\t1964\t46.97\t5.79\t2\n1131\tUS\t1965\t44.12\t6.42\t2\n1132\tUS\t1966\t40.61\t6.52\t2\n1133\tUS\t1967\t39.19\t2.53\t2\n1134\tUS\t1968\t38.2\t4.84\t2\n1135\tUS\t1969\t35.93\t3.11\t2\n1136\tUS\t1970\t35.72\t0.19\t2\n1137\tUS\t1971\t35.33\t3.36\t2\n1138\tUS\t1972\t34.51\t5.31\t2\n1139\tUS\t1973\t33.14\t5.79\t2\n1140\tUS\t1974\t31.68\t-0.55\t2\n1141\tUS\t1975\t32.56\t-0.21\t2\n1142\tUS\t1976\t34\t5.37\t2\n1143\tUS\t1977\t34.42\t4.6\t2\n1144\tUS\t1978\t33.64\t5.58\t2\n1145\tUS\t1979\t32.26\t3.12\t2\n1146\tUS\t1980\t32.56\t-0.27\t2\n1147\tUS\t1981\t31.91\t2.54\t2\n1148\tUS\t1982\t35.1\t-1.94\t2\n1149\tUS\t1983\t38.96\t4.52\t2\n1150\tUS\t1984\t40\t7.19\t2\n1151\tUS\t1985\t43.23\t4.14\t2\n1152\tUS\t1986\t47.65\t3.46\t2\n1153\tUS\t1987\t49.62\t3.2\t2\n1154\tUS\t1988\t51.02\t4.11\t2\n1155\tUS\t1989\t52.12\t3.57\t2\n1156\tUS\t1990\t55.74\t1.88\t2\n1157\tUS\t1991\t61.17\t-0.23\t3\n1158\tUS\t1992\t64.09\t3.39\t3\n1159\tUS\t1993\t66.17\t2.85\t3\n1160\tUS\t1994\t66.23\t4.07\t3\n1161\tUS\t1995\t67.08\t2.51\t3\n1162\tUS\t1996\t66.66\t3.74\t3\n1163\tUS\t1997\t64.97\t4.46\t3\n1164\tUS\t1998\t62.84\t4.36\t3\n1165\tUS\t1999\t60.47\t4.83\t3\n1166\tUS\t2000\t57.02\t4.14\t2\n1167\tUS\t2001\t56.46\t1.08\t2\n1168\tUS\t2002\t58.52\t1.81\t2\n1169\tUS\t2003\t60.88\t2.49\t3\n1170\tUS\t2004\t62.18\t3.57\t3\n1171\tUS\t2005\t62.77\t3.05\t3\n1172\tUS\t2006\t63.49\t2.67\t3\n1173\tUS\t2007\t63.99\t2.14\t3\n1174\tUS\t2008\t74.09\t0.44\t3\n1175\tUS\t2009\t83.48\t-2.73\t3"
     },
     "execution_count": 1,
     "metadata": {},
     "output_type": "execute_result"
    }
   ],
   "source": "SELECT * FROM RR"
  },
  {
   "cell_type": "markdown",
   "metadata": {},
   "source": "b) Vérifier que les données contiennent bien 20 pays en les listant."
  },
  {
   "cell_type": "code",
   "execution_count": 6,
   "metadata": {
    "trusted": true
   },
   "outputs": [
    {
     "data": {
      "text/html": "<table class=\"dataframe\" border=\"1\"><thead><tr style=\"text-align: right;\"><th>Country</th></tr></thead><tbody><tr><td>Australia</td></tr><tr><td>Austria</td></tr><tr><td>Belgium</td></tr><tr><td>Canada</td></tr><tr><td>Denmark</td></tr><tr><td>Finland</td></tr><tr><td>France</td></tr><tr><td>Germany</td></tr><tr><td>Greece</td></tr><tr><td>Ireland</td></tr><tr><td>Italy</td></tr><tr><td>Japan</td></tr><tr><td>Netherlands</td></tr><tr><td>New Zealand</td></tr><tr><td>Norway</td></tr><tr><td>Portugal</td></tr><tr><td>Spain</td></tr><tr><td>Sweden</td></tr><tr><td>UK</td></tr><tr><td>US</td></tr></tbody></table>",
      "text/plain": "Country\nAustralia\nAustria\nBelgium\nCanada\nDenmark\nFinland\nFrance\nGermany\nGreece\nIreland\nItaly\nJapan\nNetherlands\nNew Zealand\nNorway\nPortugal\nSpain\nSweden\nUK\nUS"
     },
     "execution_count": 6,
     "metadata": {},
     "output_type": "execute_result"
    }
   ],
   "source": "SELECT DISTINCT Country FROM RR;"
  },
  {
   "cell_type": "markdown",
   "metadata": {},
   "source": "c) Vérifier aussi que les années vont de 1946 à 2009"
  },
  {
   "cell_type": "code",
   "execution_count": 5,
   "metadata": {
    "trusted": true
   },
   "outputs": [
    {
     "data": {
      "text/html": "<table class=\"dataframe\" border=\"1\"><thead><tr style=\"text-align: right;\"><th>Year</th></tr></thead><tbody><tr><td>1946</td></tr><tr><td>1947</td></tr><tr><td>1948</td></tr><tr><td>1949</td></tr><tr><td>1950</td></tr><tr><td>1951</td></tr><tr><td>1952</td></tr><tr><td>1953</td></tr><tr><td>1954</td></tr><tr><td>1955</td></tr><tr><td>1956</td></tr><tr><td>1957</td></tr><tr><td>1958</td></tr><tr><td>1959</td></tr><tr><td>1960</td></tr><tr><td>1961</td></tr><tr><td>1962</td></tr><tr><td>1963</td></tr><tr><td>1964</td></tr><tr><td>1965</td></tr><tr><td>1966</td></tr><tr><td>1967</td></tr><tr><td>1968</td></tr><tr><td>1969</td></tr><tr><td>1970</td></tr><tr><td>1971</td></tr><tr><td>1972</td></tr><tr><td>1973</td></tr><tr><td>1974</td></tr><tr><td>1975</td></tr><tr><td>1976</td></tr><tr><td>1977</td></tr><tr><td>1978</td></tr><tr><td>1979</td></tr><tr><td>1980</td></tr><tr><td>1981</td></tr><tr><td>1982</td></tr><tr><td>1983</td></tr><tr><td>1984</td></tr><tr><td>1985</td></tr><tr><td>1986</td></tr><tr><td>1987</td></tr><tr><td>1988</td></tr><tr><td>1989</td></tr><tr><td>1990</td></tr><tr><td>1991</td></tr><tr><td>1992</td></tr><tr><td>1993</td></tr><tr><td>1994</td></tr><tr><td>1995</td></tr><tr><td>1996</td></tr><tr><td>1997</td></tr><tr><td>1998</td></tr><tr><td>1999</td></tr><tr><td>2000</td></tr><tr><td>2001</td></tr><tr><td>2002</td></tr><tr><td>2003</td></tr><tr><td>2004</td></tr><tr><td>2005</td></tr><tr><td>2006</td></tr><tr><td>2007</td></tr><tr><td>2008</td></tr><tr><td>2009</td></tr></tbody></table>",
      "text/plain": "Year\n1946\n1947\n1948\n1949\n1950\n1951\n1952\n1953\n1954\n1955\n1956\n1957\n1958\n1959\n1960\n1961\n1962\n1963\n1964\n1965\n1966\n1967\n1968\n1969\n1970\n1971\n1972\n1973\n1974\n1975\n1976\n1977\n1978\n1979\n1980\n1981\n1982\n1983\n1984\n1985\n1986\n1987\n1988\n1989\n1990\n1991\n1992\n1993\n1994\n1995\n1996\n1997\n1998\n1999\n2000\n2001\n2002\n2003\n2004\n2005\n2006\n2007\n2008\n2009"
     },
     "execution_count": 5,
     "metadata": {},
     "output_type": "execute_result"
    }
   ],
   "source": "SELECT DISTINCT Year FROM RR ORDER BY Year ASC;"
  },
  {
   "cell_type": "markdown",
   "metadata": {},
   "source": "d) Lister par ordre croissant les dix années où la croissance a été la plus faible en France."
  },
  {
   "cell_type": "code",
   "execution_count": 26,
   "metadata": {
    "trusted": true
   },
   "outputs": [
    {
     "data": {
      "text/html": "<table class=\"dataframe\" border=\"1\"><thead><tr style=\"text-align: right;\"><th>Year</th></tr></thead><tbody><tr><td>2009</td></tr><tr><td>1988</td></tr><tr><td>1982</td></tr><tr><td>1989</td></tr><tr><td>2003</td></tr><tr><td>1980</td></tr><tr><td>2002</td></tr><tr><td>1981</td></tr><tr><td>1987</td></tr><tr><td>1990</td></tr></tbody></table>",
      "text/plain": "Year\n2009\n1988\n1982\n1989\n2003\n1980\n2002\n1981\n1987\n1990"
     },
     "execution_count": 26,
     "metadata": {},
     "output_type": "execute_result"
    }
   ],
   "source": "SELECT Year FROM RR WHERE Country = \"France\" ORDER BY Growth ASC  LIMIT 10;"
  },
  {
   "cell_type": "markdown",
   "metadata": {},
   "source": "e) Lister les pays où la croissance a dépassé 15 %"
  },
  {
   "cell_type": "code",
   "execution_count": 27,
   "metadata": {
    "trusted": true
   },
   "outputs": [
    {
     "data": {
      "text/html": "<table class=\"dataframe\" border=\"1\"><thead><tr style=\"text-align: right;\"><th>Country</th><th>Growth</th></tr></thead><tbody><tr><td>Austria</td><td>27.33</td></tr><tr><td>Austria</td><td>18.9</td></tr><tr><td>Belgium</td><td>15.22</td></tr></tbody></table>",
      "text/plain": "Country\tGrowth\nAustria\t27.33\nAustria\t18.9\nBelgium\t15.22"
     },
     "execution_count": 27,
     "metadata": {},
     "output_type": "execute_result"
    }
   ],
   "source": "SELECT DISTINCT Country, Growth FROM RR WHERE Growth>=15;"
  },
  {
   "cell_type": "markdown",
   "metadata": {
    "tags": [
     "breakpoint"
    ],
    "trusted": false
   },
   "source": "*Ctrl+Enter pour continuer*"
  },
  {
   "cell_type": "markdown",
   "metadata": {},
   "source": "<h3 style=\"color:teal;background-color:azure;\" > <i class=\"fa fa-pencil\" aria-hidden=\"true\"> </i> &nbsp; Exercice 2 </h3>\n\nÉcrire une requête SQL permettant d'obtenir le pays, l'année et le PIB où la dette (par rapport au PIB) a été la plus importante."
  },
  {
   "cell_type": "code",
   "execution_count": 30,
   "metadata": {
    "trusted": true
   },
   "outputs": [
    {
     "data": {
      "text/html": "<table class=\"dataframe\" border=\"1\"><thead><tr style=\"text-align: right;\"><th>Country</th><th>Year</th><th>DebtToGDP</th></tr></thead><tbody><tr><td>UK</td><td>1946</td><td>247.48</td></tr></tbody></table>",
      "text/plain": "Country\tYear\tDebtToGDP\nUK\t1946\t247.48"
     },
     "execution_count": 30,
     "metadata": {},
     "output_type": "execute_result"
    }
   ],
   "source": "SELECT Country, Year, DebtToGDP FROM RR ORDER BY DebtToGDP DESC LIMIT 1;"
  },
  {
   "cell_type": "markdown",
   "metadata": {
    "tags": [
     "breakpoint"
    ],
    "trusted": false
   },
   "source": "*Ctrl+Enter pour continuer quand vous avez trouvé le résultat*"
  },
  {
   "cell_type": "markdown",
   "metadata": {},
   "source": "!!! success \n\nVous avez *normalement* écrit une requête de classement par ordre\ndécroissant associée à une clause LIMIT. En réalité on recherche ici le\nmaximum d'une colonne, le langage SQL permet d'opérer sur des colonnes :\n* MIN et MAX permettent d'obtenir respectivement le maximum ou le\nminimum d'un champ.\n* SUM permet de calculer la somme sur un ensemble\nd'enregistrements.\n* AVG permet de calculer la moyenne sur un ensemble\nd'enregistrements.\n* COUNT permet de compter le nombre d'enregistrements.\nVérifier si la requête ci-dessous donne le même résultat:\n\n!!!\n\nVérifier si la requête ci-dessous donne le même résultat:"
  },
  {
   "cell_type": "code",
   "execution_count": 31,
   "metadata": {
    "trusted": true
   },
   "outputs": [
    {
     "data": {
      "text/html": "<table class=\"dataframe\" border=\"1\"><thead><tr style=\"text-align: right;\"><th>Country</th><th>Year</th><th>Growth</th><th>MAX(DebtToGDP)</th></tr></thead><tbody><tr><td>UK</td><td>1946</td><td>-2.46</td><td>247.48</td></tr></tbody></table>",
      "text/plain": "Country\tYear\tGrowth\tMAX(DebtToGDP)\nUK\t1946\t-2.46\t247.48"
     },
     "execution_count": 31,
     "metadata": {},
     "output_type": "execute_result"
    }
   ],
   "source": "SELECT Country, Year, Growth, MAX(DebtToGDP) FROM RR"
  },
  {
   "cell_type": "markdown",
   "metadata": {
    "tags": [
     "breakpoint"
    ],
    "trusted": false
   },
   "source": "*Ctrl+Enter pour continuer*"
  },
  {
   "cell_type": "markdown",
   "metadata": {},
   "source": "<h3 style=\"color:teal;background-color:azure;\" > <i class=\"fa fa-pencil\" aria-hidden=\"true\"> </i> &nbsp; Exercice 3 </h3>\n\n\n\n\nRegarder les 10 premières minutes de la vidéo https://youtu.be/yeX_Zs7zztY .\n\n\n\nEn vous aidant de l’opérateur AVG, retrouver à l'aide de SQL les vraies valeurs\ndonnées à 8min30 de croissance moyenne."
  },
  {
   "cell_type": "code",
   "execution_count": 32,
   "metadata": {
    "trusted": true
   },
   "outputs": [
    {
     "data": {
      "text/html": "<table class=\"dataframe\" border=\"1\"><thead><tr style=\"text-align: right;\"><th>avg(Growth)</th></tr></thead><tbody><tr><td>4.173521126760564</td></tr></tbody></table>",
      "text/plain": "avg(Growth)\n4.173521126760564"
     },
     "execution_count": 32,
     "metadata": {},
     "output_type": "execute_result"
    }
   ],
   "source": "SELECT avg(Growth) FROM RR where DebtToGDP <= 30;"
  },
  {
   "cell_type": "code",
   "execution_count": 33,
   "metadata": {
    "trusted": true
   },
   "outputs": [
    {
     "data": {
      "text/html": "<table class=\"dataframe\" border=\"1\"><thead><tr style=\"text-align: right;\"><th>avg(Growth)</th></tr></thead><tbody><tr><td>3.0923006833712985</td></tr></tbody></table>",
      "text/plain": "avg(Growth)\n3.0923006833712985"
     },
     "execution_count": 33,
     "metadata": {},
     "output_type": "execute_result"
    }
   ],
   "source": "SELECT avg(Growth) FROM RR where DebtToGDP > 30 and DebtToGDP < 60 ;"
  },
  {
   "cell_type": "code",
   "execution_count": 34,
   "metadata": {
    "trusted": true
   },
   "outputs": [
    {
     "data": {
      "text/html": "<table class=\"dataframe\" border=\"1\"><thead><tr style=\"text-align: right;\"><th>avg(Growth)</th></tr></thead><tbody><tr><td>3.0923006833712985</td></tr></tbody></table>",
      "text/plain": "avg(Growth)\n3.0923006833712985"
     },
     "execution_count": 34,
     "metadata": {},
     "output_type": "execute_result"
    }
   ],
   "source": "SELECT avg(Growth) FROM RR where DebtToGDP > 30 and DebtToGDP< 60 ;"
  },
  {
   "cell_type": "code",
   "execution_count": 35,
   "metadata": {
    "trusted": true
   },
   "outputs": [
    {
     "data": {
      "text/html": "<table class=\"dataframe\" border=\"1\"><thead><tr style=\"text-align: right;\"><th>avg(Growth)</th></tr></thead><tbody><tr><td>2.167818181818182</td></tr></tbody></table>",
      "text/plain": "avg(Growth)\n2.167818181818182"
     },
     "execution_count": 35,
     "metadata": {},
     "output_type": "execute_result"
    }
   ],
   "source": "SELECT avg(Growth) FROM RR where DebtToGDP > 90;"
  },
  {
   "cell_type": "raw",
   "metadata": {},
   "source": "~4,2 % : 4.173521126760564\n~3,1 % : 3.0923006833712985\n~3,2 % : 3.0923006833712985\n~2,2 % : 2.167818181818182"
  },
  {
   "cell_type": "markdown",
   "metadata": {
    "tags": [
     "breakpoint"
    ],
    "trusted": false
   },
   "source": "*Ctrl+Enter pour continuer*"
  },
  {
   "cell_type": "markdown",
   "metadata": {},
   "source": "<h3 style=\"color:teal;background-color:azure;\" > <i class=\"fa fa-pencil\" aria-hidden=\"true\"> </i> &nbsp; Exercice 4 - Pour aller plus loin ... </h3>\n\n\nLes opérations sur les colonnes sont particulièrement utiles en lien avec la\nclause GROUP BY. Par exemple, si on souhaite obtenir la somme de la\ncroissance pour chacun des 20 pays depuis 1970 :\n\n```sql\nSELECT country, SUM(Growth) FROM RR WHERE Year>=1970 GROUP BY Country\n```\n \nOn peut même renommer la colonne SUM(Growth) des résultats grâce à AS et donc l'utiliser comme critère de classement:\n\n```sql\nSELECT country, SUM(Growth) AS moy70 FROM RRWHERE Year>=1970 GROUP BY Country ORDER BY moy70 DESC;\n```\n\nÉcrire une seule requête permettant d'obtenir les taux de croissance moyenne pour chacune des catégories de dette.\n"
  },
  {
   "cell_type": "code",
   "execution_count": null,
   "metadata": {
    "trusted": false
   },
   "outputs": [],
   "source": ""
  }
 ],
 "metadata": {
  "kernelspec": {
   "display_name": "SQL",
   "language": "sql",
   "name": "sql"
  }
 },
 "nbformat": 4,
 "nbformat_minor": 2
}
