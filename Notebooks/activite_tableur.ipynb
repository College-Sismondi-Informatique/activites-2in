{
 "cells": [
  {
   "cell_type": "markdown",
   "metadata": {},
   "source": "<div style=\"padding:20px;background-color:papayawhip;\" >\n    \n<h3 style=\"color:chocolate\"> <i class=\"fa fa-info\" aria-hidden=\"true\"> </i> &nbsp; Remarque introductive &nbsp;  <i class=\"fa fa-info\" aria-hidden=\"true\"></h3> \n<p> Ce fichier est fait pour être lu sur le site <a href=\"https://notebook.basthon.fr/\"><img src='https://notebook.basthon.fr/assets/efede5218c9087496f16.png' style=\"border: 0; display:inline; margin: 0 5px; height:30px\" alt=\"Basthon\"/></a>. <br>\n    \nSi vous l'avez ouvert avec un autre programme, comme Jupyter notebook, vous riquez de rencontrer quelques bugs. <br>\nVeuillez cliquez sur <a href=\"https://notebook.basthon.fr/\">ce lien</a> et y charger ce fichier à l'aide du bouton \"Ouvrir\"  &nbsp; <i class=\"fa fa-folder\" aria-hidden=\"true\"> </i>\n</p> \n</div>"
  },
  {
   "cell_type": "markdown",
   "metadata": {},
   "source": "# Activité 1: Premier pas avec les données"
  },
  {
   "cell_type": "markdown",
   "metadata": {},
   "source": "Nous allons utiliser LibreOffice Calc (tableur) pour rechercher des informations dans un fichier contenant les données des médailles olympiques de 1976 à 2008.\n- Télécharger le fichier Olympics1976-2008.ods [Olympics1976-2008.ods](https://githepia.hesge.ch/info_sismondi/activites-2in-do/-/raw/main/Notebooks/Olympics1976-2008.ods)\n- Ouvrir le fichier avec LibreOffice Calc.\n"
  },
  {
   "cell_type": "markdown",
   "metadata": {},
   "source": "<h3 style=\"color:chocolate;background-color:papayawhip;\" > <i class=\"fa fa-question\" aria-hidden=\"true\"> </i> &nbsp; Question </h3> \n\n \n```\nDéterminer le nombre de ligne (astuce: utiliser les touches ctrl + ↓ pour aller à la dernière ligne)\n```\n    \n</div>"
  },
  {
   "cell_type": "raw",
   "metadata": {},
   "source": "Réponse:"
  },
  {
   "cell_type": "markdown",
   "metadata": {},
   "source": "<details>\n<summary style=\"border-left:3px solid #3c763d; border-radius:2pt; width:100%; color:#3c763d; padding:6px; background-color: #dff0d8\"> \nSolution\n</summary>  \n\n<div style=\"border-left:3px solid #3c763d; border-radius:2pt; color:#3c763d; padding:6px; background-color: #eff0e8\">\n15434\n</div>\n</details>"
  },
  {
   "cell_type": "markdown",
   "metadata": {},
   "source": "Sélectionner la première ligne et appliquer un autofiltre:\n\n![copie d'écran](https://githepia.hesge.ch/info_sismondi/activites-2in-do/-/raw/main/Notebooks/img/copie_ecran_01.png)"
  },
  {
   "cell_type": "markdown",
   "metadata": {},
   "source": "Vous devriez voir apparaître les symboles suivants:\n\n![copie d'écran](https://githepia.hesge.ch/info_sismondi/activites-2in-do/-/raw/main/Notebooks/img/copie_ecran_02.png)"
  },
  {
   "cell_type": "markdown",
   "metadata": {},
   "source": "<h3 style=\"color:chocolate;background-color:papayawhip;\" > <i class=\"fa fa-question\" aria-hidden=\"true\"> </i> &nbsp; Question</h3> \n\n \n```\nDéterminer combien de médailles ont été gagnées par des athlètes Suisse entre 2000 et 2008 ?\n```\n    \n</div>"
  },
  {
   "cell_type": "raw",
   "metadata": {},
   "source": "Réponse:"
  },
  {
   "cell_type": "markdown",
   "metadata": {},
   "source": "<h3 style=\"color:chocolate;background-color:papayawhip;\" > <i class=\"fa fa-question\" aria-hidden=\"true\"> </i> &nbsp; Question</h3> \n\n \n```\nDéterminer combien de médailles ont été gagnées par des athlètes Suisse entre 2000 et 2008 en Triathlon ?\n```\n    \n</div>"
  },
  {
   "cell_type": "raw",
   "metadata": {},
   "source": "Réponse:"
  },
  {
   "cell_type": "markdown",
   "metadata": {},
   "source": "<h3 style=\"color:chocolate;background-color:papayawhip;\" > <i class=\"fa fa-question\" aria-hidden=\"true\"> </i> &nbsp; Question</h3> \n\n \n```\nDéterminer le nombre de pays ayant remporté des médailles d’athlétisme à l'événement “4x400 relay” durant les jeux olympiques de Barcelone.\n```\n</div>"
  },
  {
   "cell_type": "raw",
   "metadata": {},
   "source": "Réponse:"
  },
  {
   "cell_type": "markdown",
   "metadata": {},
   "source": "### Conclusion:\nDans un tableur, les filtres nous permettent de faire ressortir assez facilement des lignes qui nous intéressent, mais nous sommes limités dans les possibilités de recherche. De plus, si le fichier comporte plusieurs millions de champs, les tableurs auront beaucoup de difficultés à ouvrir et charger l’ensemble des données !\nMaintenant ouvrons, le tableau des médailles à l’aide d’une base de données…\n"
  }
 ],
 "metadata": {
  "kernelspec": {
   "display_name": "Python 3",
   "language": "python",
   "name": "python3"
  }
 },
 "nbformat": 4,
 "nbformat_minor": 2
}
