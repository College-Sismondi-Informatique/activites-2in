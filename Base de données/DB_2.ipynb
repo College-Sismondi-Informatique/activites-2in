{
 "cells": [
  {
   "cell_type": "markdown",
   "metadata": {},
   "source": "# Premier pas en SQL - Suite\n"
  },
  {
   "cell_type": "markdown",
   "metadata": {},
   "source": "## Opérations sur les colonnes"
  },
  {
   "cell_type": "markdown",
   "metadata": {},
   "source": "Voici une nouvelle table nommée **RR** avec la structure suivante : \n\n| Attribut    | Type      | Explication |\n| ------------- | ------------- | ------------- |\n| id | INTEGER (clé) |  |\n| Country | TEXT |  |\n| Year | INTEGER |  |\n| DebtToGDP | REAL | dette en pourcentage du PIB |\n| Growth | REAL | la croissance |\n| DebtCategory | INTEGER |  |\n\n\n\n"
  },
  {
   "cell_type": "markdown",
   "metadata": {},
   "source": "<h3 style=\"color:teal;background-color:azure;\" > <i class=\"fa fa-pencil\" aria-hidden=\"true\"> </i> &nbsp; Exercice 1 </h3>\n\nQuelques requêtes pour s'échauffer...\n\na) Entrer une requête SQL pour afficher la table : "
  },
  {
   "cell_type": "code",
   "execution_count": null,
   "metadata": {
    "trusted": false
   },
   "outputs": [],
   "source": ""
  },
  {
   "cell_type": "markdown",
   "metadata": {},
   "source": "b) Vérifier que les données contiennent bien 20 pays en les listant."
  },
  {
   "cell_type": "code",
   "execution_count": null,
   "metadata": {
    "trusted": false
   },
   "outputs": [],
   "source": ""
  },
  {
   "cell_type": "markdown",
   "metadata": {},
   "source": "c) Vérifier aussi que les années vont de 1946 à 2009"
  },
  {
   "cell_type": "code",
   "execution_count": null,
   "metadata": {
    "trusted": false
   },
   "outputs": [],
   "source": ""
  },
  {
   "cell_type": "markdown",
   "metadata": {},
   "source": "d) Lister par ordre croissant les dix années où la croissance a été la plus faible en France."
  },
  {
   "cell_type": "code",
   "execution_count": null,
   "metadata": {
    "trusted": false
   },
   "outputs": [],
   "source": ""
  },
  {
   "cell_type": "markdown",
   "metadata": {},
   "source": "e) Lister les pays où la croissance a dépassé 15 %"
  },
  {
   "cell_type": "code",
   "execution_count": null,
   "metadata": {
    "trusted": false
   },
   "outputs": [],
   "source": ""
  },
  {
   "cell_type": "markdown",
   "metadata": {
    "tags": [
     "breakpoint"
    ],
    "trusted": false
   },
   "source": "*Ctrl+Enter pour continuer*"
  },
  {
   "cell_type": "markdown",
   "metadata": {},
   "source": "<h3 style=\"color:teal;background-color:azure;\" > <i class=\"fa fa-pencil\" aria-hidden=\"true\"> </i> &nbsp; Exercice 2 </h3>\n\nÉcrire une requête SQL permettant d'obtenir le pays, l'année et le PIB où la dette (par rapport au PIB) a été la plus importante."
  },
  {
   "cell_type": "code",
   "execution_count": null,
   "metadata": {
    "trusted": false
   },
   "outputs": [],
   "source": ""
  },
  {
   "cell_type": "markdown",
   "metadata": {
    "tags": [
     "breakpoint"
    ],
    "trusted": false
   },
   "source": "*Ctrl+Enter pour continuer quand vous avez trouvé le résultat*"
  },
  {
   "cell_type": "markdown",
   "metadata": {},
   "source": "!!! success \n\nVous avez *normalement* écrit une requête de classement par ordre\ndécroissant associée à une clause LIMIT. En réalité on recherche ici le\nmaximum d'une colonne, le langage SQL permet d'opérer sur des colonnes :\n* MIN et MAX permettent d'obtenir respectivement le maximum ou le\nminimum d'un champ.\n* SUM permet de calculer la somme sur un ensemble\nd'enregistrements.\n* AVG permet de calculer la moyenne sur un ensemble\nd'enregistrements.\n* COUNT permet de compter le nombre d'enregistrements.\nVérifier si la requête ci-dessous donne le même résultat:\n\n!!!\n\nVérifier si la requête ci-dessous donne le même résultat:"
  },
  {
   "cell_type": "code",
   "execution_count": 3,
   "metadata": {
    "trusted": true
   },
   "outputs": [
    {
     "data": {
      "text/html": "<table class=\"dataframe\" border=\"1\"><thead><tr style=\"text-align: right;\"><th>Country</th><th>Year</th><th>Growth</th><th>MAX(DebtToGDP)</th></tr></thead><tbody><tr><td>UK</td><td>1946</td><td>-2.46</td><td>247.48</td></tr></tbody></table>",
      "text/plain": "Country\tYear\tGrowth\tMAX(DebtToGDP)\nUK\t1946\t-2.46\t247.48"
     },
     "execution_count": 3,
     "metadata": {},
     "output_type": "execute_result"
    }
   ],
   "source": "SELECT Country, Year, Growth, MAX(DebtToGDP) FROM RR"
  },
  {
   "cell_type": "markdown",
   "metadata": {},
   "source": "Puis utilisez les autres commandes pour calculer..."
  },
  {
   "cell_type": "markdown",
   "metadata": {},
   "source": "L'année et le pays où la croissance était la plus faible :"
  },
  {
   "cell_type": "code",
   "execution_count": null,
   "metadata": {
    "trusted": true
   },
   "outputs": [],
   "source": ""
  },
  {
   "cell_type": "markdown",
   "metadata": {},
   "source": "La moyenne des dettes de la France :"
  },
  {
   "cell_type": "code",
   "execution_count": null,
   "metadata": {
    "trusted": true
   },
   "outputs": [],
   "source": ""
  },
  {
   "cell_type": "markdown",
   "metadata": {},
   "source": "Le nombre d'années où l'Australie a eu une dette supérieure à 100% du PIB :"
  },
  {
   "cell_type": "code",
   "execution_count": null,
   "metadata": {
    "trusted": true
   },
   "outputs": [],
   "source": ""
  },
  {
   "cell_type": "markdown",
   "metadata": {
    "tags": [
     "breakpoint"
    ],
    "trusted": false
   },
   "source": "*Ctrl+Enter pour continuer*"
  },
  {
   "cell_type": "markdown",
   "metadata": {},
   "source": "<h3 style=\"color:teal;background-color:azure;\" > <i class=\"fa fa-pencil\" aria-hidden=\"true\"> </i> &nbsp; Exercice 3 </h3>\n\n\n\n\nRegarder les 10 premières minutes de la vidéo https://youtu.be/yeX_Zs7zztY .\n\n\n\nEn vous aidant de l’opérateur AVG, retrouver à l'aide de SQL les vraies valeurs\ndonnées à 8min30 de croissance moyenne."
  },
  {
   "cell_type": "code",
   "execution_count": null,
   "metadata": {
    "trusted": false
   },
   "outputs": [],
   "source": ""
  },
  {
   "cell_type": "raw",
   "metadata": {},
   "source": "~4,2 % : \n~3,1 % :\n~3,2 % :\n~2,2 % :"
  },
  {
   "cell_type": "markdown",
   "metadata": {
    "tags": [
     "breakpoint"
    ],
    "trusted": false
   },
   "source": "*Ctrl+Enter pour continuer*"
  },
  {
   "cell_type": "markdown",
   "metadata": {},
   "source": "<h3 style=\"color:teal;background-color:azure;\" > <i class=\"fa fa-pencil\" aria-hidden=\"true\"> </i> &nbsp; Exercice 4 - Pour aller plus loin ... </h3>\n\n\nLes opérations sur les colonnes sont particulièrement utiles en lien avec la\nclause GROUP BY. Par exemple, si on souhaite obtenir la somme de la\ncroissance pour chacun des 20 pays depuis 1970 :\n\n```sql\nSELECT country, SUM(Growth) FROM RR WHERE Year>=1970 GROUP BY Country\n```\n \nOn peut même renommer la colonne SUM(Growth) des résultats grâce à AS et donc l'utiliser comme critère de classement:\n\n```sql\nSELECT country, SUM(Growth) AS moy70 FROM RRWHERE Year>=1970 GROUP BY Country ORDER BY moy70 DESC;\n```\n\nÉcrire une seule requête permettant d'obtenir les taux de croissance moyenne pour chacune des catégories de dette.\n"
  },
  {
   "cell_type": "code",
   "execution_count": null,
   "metadata": {
    "trusted": false
   },
   "outputs": [],
   "source": ""
  }
 ],
 "metadata": {
  "kernelspec": {
   "display_name": "SQL",
   "language": "sql",
   "name": "sql"
  }
 },
 "nbformat": 4,
 "nbformat_minor": 2
}
