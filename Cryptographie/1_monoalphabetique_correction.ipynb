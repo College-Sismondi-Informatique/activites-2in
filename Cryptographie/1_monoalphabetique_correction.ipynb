{
 "cells": [
  {
   "cell_type": "markdown",
   "metadata": {},
   "source": [
    "<div style=\"padding:20px;background-color:papayawhip;\" > \n",
    "<h3 style=\"color:chocolate\"> <i class=\"fa fa-info\" aria-hidden=\"true\"> </i> &nbsp; Remarque introductive &nbsp;  <i class=\"fa fa-info\" aria-hidden=\"true\"></h3> \n",
    "<p> Ce fichier est fait pour être lu sur le site <a href=\"https://notebook.basthon.fr/\"><img src='https://notebook.basthon.fr/assets/efede5218c9087496f16.png' style=\"border: 0; display:inline; margin: 0 5px; height:30px\" alt=\"Basthon\"/></a>. <br>\n",
    "    \n",
    "Si vous l'avez ouvert avec un autre programme, comme Jupyter notebook, vous riquez de rencontrer quelques bugs. <br>\n",
    "Veuillez cliquez sur <a href=\"https://notebook.basthon.fr/\">ce lien</a> et y charger ce fichier à l'aide du bouton \"Ouvrir\"  &nbsp; <i class=\"fa fa-folder\" aria-hidden=\"true\"> </i>\n",
    "</p> </div>    "
   ]
  },
  {
   "cell_type": "markdown",
   "metadata": {},
   "source": [
    "# Chiffrement symétrique - Le chiffrement monoalphabétique - Correction\n",
    "\n",
    "Le but de ce travail pratique est de déchiffrer un message qui a été chiffré avec un chiffrement monoalphabétique en adaptant un programme déjà créé.\n"
   ]
  },
  {
   "cell_type": "markdown",
   "metadata": {},
   "source": [
    "<h3 style=\"color:teal;background-color:azure;\" > <i class=\"fa fa-pencil\" aria-hidden=\"true\"> </i> &nbsp; Exercice 1 </h3> \n",
    "\n",
    "Le programme suivant permet de déchiffrer un message codé selon le principe monoalphabétique, en connaissant la clé de chiffrement. \n",
    "\n",
    "Lisez-le en essayant de le comprendre, puis testez-le."
   ]
  },
  {
   "cell_type": "code",
   "execution_count": 32,
   "metadata": {
    "trusted": true
   },
   "outputs": [
    {
     "name": "stdout",
     "output_type": "stream",
     "text": [
      "WI RUWWIAI VXVBUPFX TUOV VUOQSXMI OPI NUPPI SPPII\n",
      "LE COLLEGE SISMONDI VOUS SOUHAITE UNE BONNE ANNEE\n"
     ]
    }
   ],
   "source": [
    "# Texte à déchiffrer\n",
    "texte_chiffre = \"\"\"WI RUWWIAI VXVBUPFX TUOV VUOQSXMI OPI NUPPI SPPII\"\"\"\n",
    "\n",
    "# Alphabet MAJUSCULE uniquement pour simplifier\n",
    "liste_alphabet = \"ABCDEFGHIJKLMNOPQRSTUVWXYZ\"\n",
    "\n",
    "# Pour chaque lettre, correspond une lettre dans liste_alphabet\n",
    "liste_chiffree = \"SNRFIYAQXLKWBPUZCHVMOTGJDE\"\n",
    "\n",
    "# texte_dechiffree contiendra la chaine de caractère donc le texte déchiffré\n",
    "texte_dechiffre = \"\"\n",
    "\n",
    "\n",
    "# Parcours caractère par caractère le fichier ouvert.\n",
    "for lettre in texte_chiffre:\n",
    "\n",
    "    # Retourne vrai si \"lettre\" est un caractère alphabétique (a..z)\n",
    "    if lettre.isalpha():           \n",
    "        # Recherche la position (index) de la lettre à décoder dans la liste_chiffree.\n",
    "        index = liste_chiffree.index(lettre)\n",
    "        \n",
    "        # On utilise cet index pour trouver la lettre dans liste_alphabet.\n",
    "        lettre_decodee = liste_alphabet[index]\n",
    "                \n",
    "        # On ajoute le caractère déchiffré à la suite du texte déjà déchiffré.\n",
    "        texte_dechiffre = texte_dechiffre + lettre_decodee\n",
    "    else:\n",
    "        # la lettre n'est pas un caractère alphabétique mais peut-être une ponctuation\n",
    "        texte_dechiffre = texte_dechiffre + lettre\n",
    "\n",
    "# On affiche le texte decodé\n",
    "print(texte_chiffre)\n",
    "print(texte_dechiffre)\n",
    "\n"
   ]
  },
  {
   "cell_type": "markdown",
   "metadata": {},
   "source": [
    "On veut maintenant déchiffrer le message suivant `JI KXJIEOI IWIFEIJ TI OIK IKNVOIK XEYXEXK D'IYYFVXI` qui a été codé avec la clé `VMOTIYAQXLGJDESNRFKWBPUZCH`.\n",
    "\n",
    "Reprenez le code précédent et adaptez-le pour décoder ce message."
   ]
  },
  {
   "cell_type": "code",
   "execution_count": 4,
   "metadata": {
    "trusted": true
   },
   "outputs": [
    {
     "name": "stdout",
     "output_type": "stream",
     "text": [
      "JI KXJIEOI IWIFEIJ TI OIK IKNVOIK XEYXEXK D'IYYFVXI\n",
      "LE SILENCE ETERNEL DE CES ESPACES INFINIS M'EFFRAIE\n"
     ]
    }
   ],
   "source": [
    "############ Correction ################\n",
    "# Texte à déchiffrer\n",
    "texte_chiffre = \"\"\"JI KXJIEOI IWIFEIJ TI OIK IKNVOIK XEYXEXK D'IYYFVXI\"\"\"\n",
    "\n",
    "# Alphabet MAJUSCULE uniquement pour simplifier\n",
    "liste_alphabet = \"ABCDEFGHIJKLMNOPQRSTUVWXYZ\"\n",
    "\n",
    "# Pour chaque lettre, correspond une lettre dans liste_alphabet\n",
    "liste_chiffree = \"SNRFIYAQXLKWBPUZCHVMOTGJDE\"\n",
    "\n",
    "# texte_dechiffree contiendra la chaine de caractère donc le texte déchiffré\n",
    "texte_dechiffre = \"\"\n",
    "\n",
    "\n",
    "# Parcours caractère par caractère le fichier ouvert.\n",
    "for lettre in texte_chiffre:\n",
    "\n",
    "    # Retourne vrai si \"lettre\" est un caractère alphabétique (a..z)\n",
    "    if lettre.isalpha():           \n",
    "        # Recherche la position (index) de la lettre à décoder dans la liste_chiffree.\n",
    "        index = liste_chiffree.index(lettre)\n",
    "        \n",
    "        # On utilise cet index pour trouver la lettre dans liste_alphabet.\n",
    "        lettre_decodee = liste_alphabet[index]\n",
    "                \n",
    "        # On ajoute le caractère déchiffré à la suite du texte déjà déchiffré.\n",
    "        texte_dechiffre = texte_dechiffre + lettre_decodee\n",
    "    else:\n",
    "        # la lettre n'est pas un caractère alphabétique mais peut-être une ponctuation\n",
    "        texte_dechiffre = texte_dechiffre + lettre\n",
    "\n",
    "# On affiche le texte decodé\n",
    "print(texte_chiffre)\n",
    "print(texte_dechiffre)\n"
   ]
  },
  {
   "cell_type": "markdown",
   "metadata": {
    "tags": [
     "breakpoint"
    ]
   },
   "source": [
    "#### Ctrl+enter pour continuer ..........."
   ]
  },
  {
   "cell_type": "markdown",
   "metadata": {},
   "source": [
    "<h3 style=\"color:teal;background-color:azure;\" > <i class=\"fa fa-pencil\" aria-hidden=\"true\"> </i> &nbsp; Exercice 2</h3> \n",
    "\n",
    "On aimerait maintenant déchiffrer un message chiffré avec le chiffrement monoalhabétique, mais dont on ne connaît pas la clef.\n",
    "\n",
    "**Comment procéder pour trouver la clé ?**\n",
    "On peut compter les occurrences (répétition) de chaque lettre dans le message chiffré et les comparer à celles de la langue française pour essayer de retrouver la correspondance.\n",
    "\n",
    "C'est ce que fait le code suivant. Lisez-le en essayant de le comprendre, puis testez-le.\n"
   ]
  },
  {
   "cell_type": "code",
   "execution_count": 8,
   "metadata": {
    "trusted": true
   },
   "outputs": [
    {
     "name": "stdout",
     "output_type": "stream",
     "text": [
      "A : 1\n",
      "B : 1\n",
      "C : 0\n",
      "D : 0\n",
      "E : 0\n",
      "F : 1\n",
      "G : 0\n",
      "H : 0\n",
      "I : 8\n",
      "J : 0\n",
      "K : 0\n",
      "L : 0\n",
      "M : 1\n",
      "N : 1\n",
      "O : 3\n",
      "P : 6\n",
      "Q : 1\n",
      "R : 1\n",
      "S : 2\n",
      "T : 1\n",
      "U : 5\n",
      "V : 4\n",
      "W : 3\n",
      "X : 3\n",
      "Y : 0\n",
      "Z : 0\n"
     ]
    }
   ],
   "source": [
    "# Texte à déchiffrer\n",
    "texte_chiffre = \"\"\"WI RUWWIAI VXVBUPFX TUOV VUOQSXMI OPI NUPPI SPPII\"\"\"\n",
    "\n",
    "# Alphabet\n",
    "liste_alphabet = \"ABCDEFGHIJKLMNOPQRSTUVWXYZ\"\n",
    "\n",
    "# Liste des occurrences\n",
    "liste_occurrence = [0, 0, 0, 0, 0, 0, 0, 0, 0, 0, 0, 0, 0, 0, 0, 0, 0, 0, 0, 0, 0, 0, 0, 0, 0, 0]\n",
    "\n",
    "# Parcours caractère par caractère le fichier\n",
    "for lettre in texte_chiffre:\n",
    "    \n",
    "    # Retourne vrai si \"lettre\" est un caractère alphabétique (a..z)\n",
    "    if lettre.isalpha():\n",
    "        \n",
    "        # Recherche la position (index) de la lettre (conversion en minuscule)\n",
    "        # à décoder dans la liste_alphabet.\n",
    "        index = liste_alphabet.index(lettre)\n",
    "        \n",
    "        # Incrémenter l'occurence de la lettre correspondante\n",
    "        liste_occurrence[index] = liste_occurrence[index] + 1\n",
    "\n",
    "# Afficher les occurrences de chaque lettres\n",
    "for i in range(26):\n",
    "    print(liste_alphabet[i], \":\",liste_occurrence[i])"
   ]
  },
  {
   "cell_type": "markdown",
   "metadata": {},
   "source": [
    "Vous avez maintenant intercepté le message suivant dont vous ne connaissez pas la clé : \n",
    "```\n",
    "PGY VGPNGDGY YITJMYYGZD MIYYA GZ NMPGIT PGY MIDTGY QMIPEAY WMT APY GZQMQGZD \n",
    "WEZDTG PGY QGTUMAZY BGY PIDDGY JTGYOIG FEITZMPAGTGY YEAD OI APY PGY TGJEIYYGZD \n",
    "BG PGIT JTEJTG DGTTADEATG YEAD OI APY GZNMVAYYGZD WGPIA BG PGITY GZZGUAY ETQGDETAX \n",
    "GDMAD WVGH PGY VGPNGDGY PG JTGUAGT JMT YM ZMAYYMZWG GD JMT YGY TAWVGYYGY YEIY PG \n",
    "WEZYIPMD BG U UGYYMPM GD BG U JAYEZ WGD VEUUG JEIYYG JMT P MURADAEZ WEZFITM MNGW \n",
    "PM ZERPGYYG GD GZQMQGM PGY VMRADMZDY M YETDAT BI JMCY MNGW DEIDGY PGITY LETWGY \n",
    "AP PGIT BAD OIG P GUJETDMZD JMT PG WEITMQG YIT DEIY PGY JGIJPGY BG PM QMIPG APY \n",
    "PM YEIUGDDTMAGZD MAYGUGZD DEID GZDAGTG M PGIT GUJATG AP GID B MIDMZD UEAZY BG \n",
    "JGAZG M PGY JGTYIMBGT OIG PGY VGPNGDGY YEZD BG DEIDGY JMTDY TGYYGTTGY JMT PM \n",
    "ZMDITG BGY PAGIX B IZ WEDG JMT PG TVAZ LPGING DTGY PMTQG GD DTGY JTELEZB OIA \n",
    "YGJMTG PGIT DGTTADEATG BG PM QGTUMZAG B IZ MIDTG JMT PG FITM VMIDG UEZDMQZG \n",
    "OIA Y GPGNG GZDTG PM YGOIMZAG GD P VGPNGDAG B IZ DTEAYAGUG WEDG JMT PG PMW \n",
    "PGUMZ GD PG TVEZG OIA YGJMTG WGDDG BGTZAGTG BG ZEDTG JTENAZWG AP TGYIPDMAD \n",
    "BG WGDDG JEYADAEZ OI APY ZG JEINMAGZD ZA Y GDGZBTG MI PEAZ ZA JETDGT LMWAPGUGZD \n",
    "PM QIGTTG WVGH PGITY NEAYAZY GD W GDMAD IZG WMIYG BG NANG MLLPAWDAEZ JEIT BGY \n",
    "VEUUGY RGPPAOIGIX PGIT JEJIPMDAEZ ZEURTGIYG GD PM QPEATG OI APY MWOIGTMAGZD BMZY \n",
    "PM QIGTTG JMT PGIT WEITMQG PGIT LMAYMAGZD TGQMTBGT WEUUG GDTEADGY BGY PAUADGY \n",
    "OIA MNMAGZD BGIX WGZD OIMTMZDG UAPPGY BG PEZQ YIT WGZD OIMDTG NAZQDY UAPPGY BG PMTQG\n",
    "```\n",
    "\n",
    "Reprenez le code précédent et adaptez-le pour compter les occurrences de chaque lettre de ce message."
   ]
  },
  {
   "cell_type": "code",
   "execution_count": 44,
   "metadata": {
    "trusted": true
   },
   "outputs": [
    {
     "name": "stdout",
     "output_type": "stream",
     "text": [
      "A : 79\n",
      "B : 30\n",
      "C : 1\n",
      "D : 92\n",
      "E : 56\n",
      "F : 3\n",
      "G : 215\n",
      "H : 2\n",
      "I : 75\n",
      "J : 35\n",
      "K : 0\n",
      "L : 7\n",
      "M : 89\n",
      "N : 17\n",
      "O : 16\n",
      "P : 82\n",
      "Q : 20\n",
      "R : 5\n",
      "S : 0\n",
      "T : 97\n",
      "U : 27\n",
      "V : 14\n",
      "W : 29\n",
      "X : 4\n",
      "Y : 102\n",
      "Z : 67\n"
     ]
    }
   ],
   "source": [
    "############ Correction ################\n",
    "# Texte à déchiffrer\n",
    "texte_chiffre = \"\"\"PGY VGPNGDGY YITJMYYGZD MIYYA GZ NMPGIT PGY MIDTGY QMIPEAY WMT APY GZQMQGZD \n",
    "WEZDTG PGY QGTUMAZY BGY PIDDGY JTGYOIG FEITZMPAGTGY YEAD OI APY PGY TGJEIYYGZD \n",
    "BG PGIT JTEJTG DGTTADEATG YEAD OI APY GZNMVAYYGZD WGPIA BG PGITY GZZGUAY ETQGDETAX \n",
    "GDMAD WVGH PGY VGPNGDGY PG JTGUAGT JMT YM ZMAYYMZWG GD JMT YGY TAWVGYYGY YEIY PG \n",
    "WEZYIPMD BG U UGYYMPM GD BG U JAYEZ WGD VEUUG JEIYYG JMT P MURADAEZ WEZFITM MNGW \n",
    "PM ZERPGYYG GD GZQMQGM PGY VMRADMZDY M YETDAT BI JMCY MNGW DEIDGY PGITY LETWGY \n",
    "AP PGIT BAD OIG P GUJETDMZD JMT PG WEITMQG YIT DEIY PGY JGIJPGY BG PM QMIPG APY \n",
    "PM YEIUGDDTMAGZD MAYGUGZD DEID GZDAGTG M PGIT GUJATG AP GID B MIDMZD UEAZY BG \n",
    "JGAZG M PGY JGTYIMBGT OIG PGY VGPNGDGY YEZD BG DEIDGY JMTDY TGYYGTTGY JMT PM \n",
    "ZMDITG BGY PAGIX B IZ WEDG JMT PG TVAZ LPGING DTGY PMTQG GD DTGY JTELEZB OIA \n",
    "YGJMTG PGIT DGTTADEATG BG PM QGTUMZAG B IZ MIDTG JMT PG FITM VMIDG UEZDMQZG \n",
    "OIA Y GPGNG GZDTG PM YGOIMZAG GD P VGPNGDAG B IZ DTEAYAGUG WEDG JMT PG PMW \n",
    "PGUMZ GD PG TVEZG OIA YGJMTG WGDDG BGTZAGTG BG ZEDTG JTENAZWG AP TGYIPDMAD \n",
    "BG WGDDG JEYADAEZ OI APY ZG JEINMAGZD ZA Y GDGZBTG MI PEAZ ZA JETDGT LMWAPGUGZD \n",
    "PM QIGTTG WVGH PGITY NEAYAZY GD W GDMAD IZG WMIYG BG NANG MLLPAWDAEZ JEIT BGY \n",
    "VEUUGY RGPPAOIGIX PGIT JEJIPMDAEZ ZEURTGIYG GD PM QPEATG OI APY MWOIGTMAGZD BMZY \n",
    "PM QIGTTG JMT PGIT WEITMQG PGIT LMAYMAGZD TGQMTBGT WEUUG GDTEADGY BGY PAUADGY \n",
    "OIA MNMAGZD BGIX WGZD OIMTMZDG UAPPGY BG PEZQ YIT WGZD OIMDTG NAZQDY UAPPGY BG PMTQG\"\"\"\n",
    "\n",
    "# Alphabet\n",
    "liste_alphabet = \"ABCDEFGHIJKLMNOPQRSTUVWXYZ\"\n",
    "\n",
    "# Liste des occurrences\n",
    "liste_occurrence = [0, 0, 0, 0, 0, 0, 0, 0, 0, 0, 0, 0, 0, 0, 0, 0, 0, 0, 0, 0, 0, 0, 0, 0, 0, 0]\n",
    "\n",
    "# Parcours caractère par caractère le fichier\n",
    "for lettre in texte_chiffre:\n",
    "    \n",
    "    # Retourne vrai si \"lettre\" est un caractère alphabétique (a..z)\n",
    "    if lettre.isalpha():\n",
    "        \n",
    "        # Recherche la position (index) de la lettre (conversion en minuscule)\n",
    "        # à décoder dans la liste_alphabet.\n",
    "        index = liste_alphabet.index(lettre)\n",
    "        \n",
    "        # Incrémenter l'occurence de la lettre correspondante\n",
    "        liste_occurrence[index] = liste_occurrence[index] + 1\n",
    "\n",
    "# Afficher les occurrences de chaque lettres\n",
    "for i in range(26):\n",
    "    print(liste_alphabet[i], \":\",liste_occurrence[i])"
   ]
  },
  {
   "cell_type": "markdown",
   "metadata": {
    "tags": [
     "breakpoint"
    ]
   },
   "source": [
    "#### Ctrl+enter pour continuer ..........."
   ]
  },
  {
   "cell_type": "markdown",
   "metadata": {},
   "source": [
    "<h3 style=\"color:teal;background-color:azure;\" > <i class=\"fa fa-pencil\" aria-hidden=\"true\"> </i> &nbsp; Exercice 3</h3> \n",
    "\n",
    "On peut maintenant comparer ces occurrences avec celles de la langue française, fournies ici dans l’histogramme et le tableau suivants :\n",
    "\n",
    "\n",
    "![](https://gitedu.hesge.ch/info_sismondi/activites-2in-do/-/raw/main/Cryptographie/images/histo_fr.png?inline=false)\n",
    "\n",
    "| Rang | Caractère | Pourcentage | \n",
    "| :--------------- |:---------------:| -----:| \n",
    "| 1 | E | 12.10% |\n",
    "| 2 | S | 7.11% |\n",
    "| 3 | R | 6.59% |\n",
    "| 4 | T | 6.51% |\n",
    "| 5 | A | 6.39% |\n",
    "| 6 | L | 6.07% |\n",
    "| 7 | I | 5.92% |\n",
    "| 8 | U | 5.02% |\n",
    "| 9 | O | 4.96% |\n",
    "| 10 | N | 4.49% |\n",
    "| 11 | D | 3.67% |\n",
    "| 12 | C | 3.18% |\n",
    "| 13 | M | 2.62% |\n",
    "| 14 | P | 2.49% |\n",
    "| 15 | G | 1.23% |\n",
    "| 16 | B | 1.14% |\n",
    "| 17 | V | 1.11% |\n",
    "| 18 | H | 1.11% |\n",
    "| 19 | F | 1.11% |\n",
    "| 20 | Q | 0.65% |\n",
    "| 21 | Y | 0.46% |\n",
    "| 22 | X | 0.38% |\n",
    "| 23 | J | 0.34% |\n",
    "| 24 | K | 0.29% |\n",
    "| 25 | W | 0.17% |\n",
    "| 26 | Z | 0.15% |\n",
    "\n",
    "\n",
    "On constate que la lettre la plus utilisée est le E, ensuite S, ensuite R, etc…\n",
    "\n",
    "En se basant sur cette liste vous pouvez trouver la clé de chiffrage : \n",
    "1. Sur une feuille de papier, en partant du résultat de l'exercice 2, associez la lettre la plus utilisée de l'alphabet à celle la plus utilisée dans le texte, puis la 2ème plus utilisée, et ainsi de suite jusqu'à la moins utilisée. Cela vous donne une première correspondance.\n",
    "2. Copiez le code de l'exercice 1.\n",
    "3. Utilisez comme clef de base l'alphabet non modifié `\"ABCDE...\"` car pour l’instant vous ne connaissez pas la clé.\n",
    "4. Remplacez chaque lettre dans la clef par son équivalent chiffré.\n",
    "\n"
   ]
  },
  {
   "cell_type": "code",
   "execution_count": null,
   "metadata": {
    "trusted": true
   },
   "outputs": [],
   "source": [
    "############ Correction ################\n",
    "\n",
    "# Texte à déchiffrer\n",
    "texte_chiffre = \"\"\"PGY VGPNGDGY YITJMYYGZD MIYYA GZ NMPGIT PGY MIDTGY QMIPEAY WMT APY GZQMQGZD \n",
    "WEZDTG PGY QGTUMAZY BGY PIDDGY JTGYOIG FEITZMPAGTGY YEAD OI APY PGY TGJEIYYGZD \n",
    "BG PGIT JTEJTG DGTTADEATG YEAD OI APY GZNMVAYYGZD WGPIA BG PGITY GZZGUAY ETQGDETAX \n",
    "GDMAD WVGH PGY VGPNGDGY PG JTGUAGT JMT YM ZMAYYMZWG GD JMT YGY TAWVGYYGY YEIY PG \n",
    "WEZYIPMD BG U UGYYMPM GD BG U JAYEZ WGD VEUUG JEIYYG JMT P MURADAEZ WEZFITM MNGW \n",
    "PM ZERPGYYG GD GZQMQGM PGY VMRADMZDY M YETDAT BI JMCY MNGW DEIDGY PGITY LETWGY \n",
    "AP PGIT BAD OIG P GUJETDMZD JMT PG WEITMQG YIT DEIY PGY JGIJPGY BG PM QMIPG APY \n",
    "PM YEIUGDDTMAGZD MAYGUGZD DEID GZDAGTG M PGIT GUJATG AP GID B MIDMZD UEAZY BG \n",
    "JGAZG M PGY JGTYIMBGT OIG PGY VGPNGDGY YEZD BG DEIDGY JMTDY TGYYGTTGY JMT PM \n",
    "ZMDITG BGY PAGIX B IZ WEDG JMT PG TVAZ LPGING DTGY PMTQG GD DTGY JTELEZB OIA \n",
    "YGJMTG PGIT DGTTADEATG BG PM QGTUMZAG B IZ MIDTG JMT PG FITM VMIDG UEZDMQZG \n",
    "OIA Y GPGNG GZDTG PM YGOIMZAG GD P VGPNGDAG B IZ DTEAYAGUG WEDG JMT PG PMW \n",
    "PGUMZ GD PG TVEZG OIA YGJMTG WGDDG BGTZAGTG BG ZEDTG JTENAZWG AP TGYIPDMAD \n",
    "BG WGDDG JEYADAEZ OI APY ZG JEINMAGZD ZA Y GDGZBTG MI PEAZ ZA JETDGT LMWAPGUGZD \n",
    "PM QIGTTG WVGH PGITY NEAYAZY GD W GDMAD IZG WMIYG BG NANG MLLPAWDAEZ JEIT BGY \n",
    "VEUUGY RGPPAOIGIX PGIT JEJIPMDAEZ ZEURTGIYG GD PM QPEATG OI APY MWOIGTMAGZD BMZY \n",
    "PM QIGTTG JMT PGIT WEITMQG PGIT LMAYMAGZD TGQMTBGT WEUUG GDTEADGY BGY PAUADGY \n",
    "OIA MNMAGZD BGIX WGZD OIMTMZDG UAPPGY BG PEZQ YIT WGZD OIMDTG NAZQDY UAPPGY BG PMTQG\"\"\"\n",
    "\n",
    "# Alphabet MAJUSCULE uniquement pour simplifier\n",
    "liste_alphabet = \"ABCDEFGHIJKLMNOPQRSTUVWXYZ\"\n",
    "\n",
    "# Pour chaque lettre, correspond une lettre dans liste_alphabet\n",
    "liste_chiffree = \"MNBJGLQVAHCPWEZURTYDIOKFXS\"\n",
    "\n",
    "# texte_dechiffree contiendra la chaine de caractère donc le texte déchiffré\n",
    "texte_dechiffre = \"\"\n",
    "\n",
    "\n",
    "# Parcours caractère par caractère le fichier ouvert.\n",
    "for lettre in texte_chiffre:\n",
    "\n",
    "    # Retourne vrai si \"lettre\" est un caractère alphabétique (a..z)\n",
    "    if lettre.isalpha():           \n",
    "        # Recherche la position (index) de la lettre à décoder dans la liste_chiffree.\n",
    "        index = liste_chiffree.index(lettre)\n",
    "        \n",
    "        # On utilise cet index pour trouver la lettre dans liste_alphabet.\n",
    "        lettre_decodee = liste_alphabet[index]\n",
    "                \n",
    "        # On ajoute le caractère déchiffré à la suite du texte déjà déchiffré.\n",
    "        texte_dechiffre = texte_dechiffre + lettre_decodee\n",
    "    else:\n",
    "        # la lettre n'est pas un caractère alphabétique mais peut-être une ponctuation\n",
    "        texte_dechiffre = texte_dechiffre + lettre\n",
    "\n",
    "# On affiche le texte decodé\n",
    "print(texte_dechiffre)"
   ]
  },
  {
   "cell_type": "markdown",
   "metadata": {},
   "source": [
    "Cela vous donne déjà une première clef approximative. À partir de là, par tentatives successives : \n",
    "\n",
    "1. Exécutez le code, puis\n",
    "2. modifiez votre clef en inversant la position des lettres. Attention de toujours garder 26 lettres différentes.\n",
    "3. Continuez à tâtons avec les mots que vous reconnaissez, par exemple s'il vous semble reconnaitre un déterminant ou une double lettre, vous pouvez adapter votre clé pour que faire coincider le message déchiffré."
   ]
  },
  {
   "cell_type": "code",
   "execution_count": 43,
   "metadata": {
    "scrolled": true,
    "trusted": true
   },
   "outputs": [
    {
     "name": "stdout",
     "output_type": "stream",
     "text": [
      "LES HELVETES SURPASSENT AUSSI EN VALEUR LES AUTRES GAULOIS CAR ILS ENGAGENT \n",
      "CONTRE LES GERMAINS DES LUTTES PRESQUE JOURNALIERES SOIT QU ILS LES REPOUSSENT \n",
      "DE LEUR PROPRE TERRITOIRE SOIT QU ILS ENVAHISSENT CELUI DE LEURS ENNEMIS ORGETORIX \n",
      "ETAIT CHEZ LES HELVETES LE PREMIER PAR SA NAISSANCE ET PAR SES RICHESSES SOUS LE \n",
      "CONSULAT DE M MESSALA ET DE M PISON CET HOMME POUSSE PAR L AMBITION CONJURA AVEC \n",
      "LA NOBLESSE ET ENGAGEA LES HABITANTS A SORTIR DU PAYS AVEC TOUTES LEURS FORCES \n",
      "IL LEUR DIT QUE L EMPORTANT PAR LE COURAGE SUR TOUS LES PEUPLES DE LA GAULE ILS \n",
      "LA SOUMETTRAIENT AISEMENT TOUT ENTIERE A LEUR EMPIRE IL EUT D AUTANT MOINS DE \n",
      "PEINE A LES PERSUADER QUE LES HELVETES SONT DE TOUTES PARTS RESSERRES PAR LA \n",
      "NATURE DES LIEUX D UN COTE PAR LE RHIN FLEUVE TRES LARGE ET TRES PROFOND QUI \n",
      "SEPARE LEUR TERRITOIRE DE LA GERMANIE D UN AUTRE PAR LE JURA HAUTE MONTAGNE \n",
      "QUI S ELEVE ENTRE LA SEQUANIE ET L HELVETIE D UN TROISIEME COTE PAR LE LAC \n",
      "LEMAN ET LE RHONE QUI SEPARE CETTE DERNIERE DE NOTRE PROVINCE IL RESULTAIT \n",
      "DE CETTE POSITION QU ILS NE POUVAIENT NI S ETENDRE AU LOIN NI PORTER FACILEMENT \n",
      "LA GUERRE CHEZ LEURS VOISINS ET C ETAIT UNE CAUSE DE VIVE AFFLICTION POUR DES \n",
      "HOMMES BELLIQUEUX LEUR POPULATION NOMBREUSE ET LA GLOIRE QU ILS ACQUERAIENT DANS \n",
      "LA GUERRE PAR LEUR COURAGE LEUR FAISAIENT REGARDER COMME ETROITES DES LIMITES \n",
      "QUI AVAIENT DEUX CENT QUARANTE MILLES DE LONG SUR CENT QUATRE VINGTS MILLES DE LARGE\n"
     ]
    }
   ],
   "source": [
    "############ Correction ################\n",
    "\n",
    "# Texte à déchiffrer\n",
    "texte_chiffre = \"\"\"PGY VGPNGDGY YITJMYYGZD MIYYA GZ NMPGIT PGY MIDTGY QMIPEAY WMT APY GZQMQGZD \n",
    "WEZDTG PGY QGTUMAZY BGY PIDDGY JTGYOIG FEITZMPAGTGY YEAD OI APY PGY TGJEIYYGZD \n",
    "BG PGIT JTEJTG DGTTADEATG YEAD OI APY GZNMVAYYGZD WGPIA BG PGITY GZZGUAY ETQGDETAX \n",
    "GDMAD WVGH PGY VGPNGDGY PG JTGUAGT JMT YM ZMAYYMZWG GD JMT YGY TAWVGYYGY YEIY PG \n",
    "WEZYIPMD BG U UGYYMPM GD BG U JAYEZ WGD VEUUG JEIYYG JMT P MURADAEZ WEZFITM MNGW \n",
    "PM ZERPGYYG GD GZQMQGM PGY VMRADMZDY M YETDAT BI JMCY MNGW DEIDGY PGITY LETWGY \n",
    "AP PGIT BAD OIG P GUJETDMZD JMT PG WEITMQG YIT DEIY PGY JGIJPGY BG PM QMIPG APY \n",
    "PM YEIUGDDTMAGZD MAYGUGZD DEID GZDAGTG M PGIT GUJATG AP GID B MIDMZD UEAZY BG \n",
    "JGAZG M PGY JGTYIMBGT OIG PGY VGPNGDGY YEZD BG DEIDGY JMTDY TGYYGTTGY JMT PM \n",
    "ZMDITG BGY PAGIX B IZ WEDG JMT PG TVAZ LPGING DTGY PMTQG GD DTGY JTELEZB OIA \n",
    "YGJMTG PGIT DGTTADEATG BG PM QGTUMZAG B IZ MIDTG JMT PG FITM VMIDG UEZDMQZG \n",
    "OIA Y GPGNG GZDTG PM YGOIMZAG GD P VGPNGDAG B IZ DTEAYAGUG WEDG JMT PG PMW \n",
    "PGUMZ GD PG TVEZG OIA YGJMTG WGDDG BGTZAGTG BG ZEDTG JTENAZWG AP TGYIPDMAD \n",
    "BG WGDDG JEYADAEZ OI APY ZG JEINMAGZD ZA Y GDGZBTG MI PEAZ ZA JETDGT LMWAPGUGZD \n",
    "PM QIGTTG WVGH PGITY NEAYAZY GD W GDMAD IZG WMIYG BG NANG MLLPAWDAEZ JEIT BGY \n",
    "VEUUGY RGPPAOIGIX PGIT JEJIPMDAEZ ZEURTGIYG GD PM QPEATG OI APY MWOIGTMAGZD BMZY \n",
    "PM QIGTTG JMT PGIT WEITMQG PGIT LMAYMAGZD TGQMTBGT WEUUG GDTEADGY BGY PAUADGY \n",
    "OIA MNMAGZD BGIX WGZD OIMTMZDG UAPPGY BG PEZQ YIT WGZD OIMDTG NAZQDY UAPPGY BG PMTQG\"\"\"\n",
    "\n",
    "# Alphabet MAJUSCULE uniquement pour simplifier\n",
    "liste_alphabet = \"ABCDEFGHIJKLMNOPQRSTUVWXYZ\"\n",
    "\n",
    "# Pour chaque lettre, correspond une lettre dans liste_alphabet\n",
    "liste_chiffree = \"MRWBGLQVAFSPUZEJOTYDINKXCH\"\n",
    "\n",
    "# texte_dechiffree contiendra la chaine de caractère donc le texte déchiffré\n",
    "texte_dechiffre = \"\"\n",
    "\n",
    "\n",
    "# Parcours caractère par caractère le fichier ouvert.\n",
    "for lettre in texte_chiffre:\n",
    "\n",
    "    # Retourne vrai si \"lettre\" est un caractère alphabétique (a..z)\n",
    "    if lettre.isalpha():           \n",
    "        # Recherche la position (index) de la lettre à décoder dans la liste_chiffree.\n",
    "        index = liste_chiffree.index(lettre)\n",
    "        \n",
    "        # On utilise cet index pour trouver la lettre dans liste_alphabet.\n",
    "        lettre_decodee = liste_alphabet[index]\n",
    "                \n",
    "        # On ajoute le caractère déchiffré à la suite du texte déjà déchiffré.\n",
    "        texte_dechiffre = texte_dechiffre + lettre_decodee\n",
    "    else:\n",
    "        # la lettre n'est pas un caractère alphabétique mais peut-être une ponctuation\n",
    "        texte_dechiffre = texte_dechiffre + lettre\n",
    "\n",
    "# On affiche le texte decodé\n",
    "print(texte_dechiffre)"
   ]
  }
 ],
 "metadata": {
  "kernelspec": {
   "display_name": "Python 3 (ipykernel)",
   "language": "python",
   "name": "python3"
  }
 },
 "nbformat": 4,
 "nbformat_minor": 2
}
